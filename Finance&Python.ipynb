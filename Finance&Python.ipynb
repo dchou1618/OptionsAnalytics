{
 "cells": [
  {
   "cell_type": "markdown",
   "metadata": {},
   "source": [
    "## Implied Volatility (IV)\n",
    "In financial mathematics, IV of an options contract is value of volatility of the underlying instrument that, when put into options model, returns theoretical value equal to current market price. Black-Scholes Merton Model: \n",
    "$C(S_t,K,t,T,r,\\sigma^{imp}) = S_t N(d_1) - e^{-r(T-t)}*K*N(d_2)$ where $N(d) = \\frac{1}{\\sqrt{2\\pi}} \n",
    "\\int_{-\\infty}^{d} e^{-\\frac{1}{2}x^2}dx$, $d_1=\\frac{log(\\frac{S_t}{k})+(r+\\frac{\\sigma^2}{2})(T-t)}{\\sigma \\sqrt{T-t}}$ and $d_2 = \\frac{log(\\frac{S_t}{k})+(r-\\frac{\\sigma^2}{2})(T-t)}{\\sigma \\sqrt{T-t}}$\n",
    "\n",
    "$C(S,K,t,T,r,\\sigma^{imp}) = C^*$. $S$ is the price at time $t$. $\\sigma$ is constant volatility. $K$ is the \n",
    "strike price of option. $T$ is the maturity of option. $r$ is constant riskless short rate.\n",
    "\n",
    "No closed-form solution - need to use numerical procedure - Newton's Method\n",
    "\n",
    "Average true range (ATR) can give an idea of volatility. To compare between stocks of different prices, we have \\% ATR, \\% volatility measure.\n",
    "\n",
    "ATR indices can be added to plots. We take ATR/Price of Stock. Then comparisons of volatilities can be made simpler.\n",
    "\n",
    "$\\sigma_{n+1}^{imp} = \\sigma_{n}^{imp} - \\frac{C(\\sigma_n^{imp})-C^*}{\\frac{\\partial C(\\sigma_n^{imp})}\n",
    "{\\partial \\sigma_n^{imp}}}$. We initialize the Newton process with $\\sigma_{0}^{imp}$ and finite $n$.\n",
    "\n",
    "Partial derivative of the volatility is called *Vega*. Vega of an option in the BSM model: $\\frac{\\partial C}{\\partial \\sigma} = S_t N(d_1)\\sqrt{T-t}$\n",
    "\n",
    "\n",
    "VSTOXX - volatility index"
   ]
  },
  {
   "cell_type": "markdown",
   "metadata": {},
   "source": [
    "Black Scholes Merton model assumes that the price of a stock follows brownian motion. This is a continuous-time stochastic process where log of varying quantity follows brownian motion (random movement of particles in liquid or gas) with drift. Mathematically, brownian motion is described by the Weiner process. $W_0=0,W_t$ continuous, $W_t-W_s \\sim N(0,t-s)$"
   ]
  },
  {
   "cell_type": "markdown",
   "metadata": {},
   "source": [
    "$\\frac{dS}{S} = \\mu dt + \\sigma dW$. $W$ is the stochastic variable following brownian motion "
   ]
  },
  {
   "cell_type": "code",
   "execution_count": 1,
   "metadata": {},
   "outputs": [],
   "source": [
    "#conda create --name myenv\n",
    "#conda activate myenv\n",
    "#ipython kernel install --user --name=myenv"
   ]
  },
  {
   "cell_type": "code",
   "execution_count": 13,
   "metadata": {},
   "outputs": [],
   "source": [
    "import pandas as pd\n",
    "import numpy as np\n",
    "from scipy import stats\n",
    "import scipy\n",
    "import tables\n",
    "import h5py\n",
    "import datetime as dt\n",
    "import matplotlib.pyplot as plt\n",
    "%matplotlib inline\n"
   ]
  },
  {
   "cell_type": "code",
   "execution_count": 14,
   "metadata": {},
   "outputs": [],
   "source": [
    "import pandas_datareader.data as web\n",
    "import plotly.graph_objects as go\n",
    "import seaborn\n",
    "import nbformat"
   ]
  },
  {
   "cell_type": "code",
   "execution_count": 15,
   "metadata": {},
   "outputs": [],
   "source": [
    "hdf = pd.HDFStore('./vstoxx_data_31032014.h5', 'r')"
   ]
  },
  {
   "cell_type": "code",
   "execution_count": 16,
   "metadata": {},
   "outputs": [],
   "source": [
    "futures_data = hdf[\"futures_data\"]\n",
    "options_data = hdf['options_data']"
   ]
  },
  {
   "cell_type": "code",
   "execution_count": 17,
   "metadata": {},
   "outputs": [],
   "source": [
    "hdf.close()"
   ]
  },
  {
   "cell_type": "code",
   "execution_count": 18,
   "metadata": {},
   "outputs": [],
   "source": [
    "options_data[\"IMPLIED_VOLATILITY\"] = 0"
   ]
  },
  {
   "cell_type": "code",
   "execution_count": 19,
   "metadata": {},
   "outputs": [],
   "source": [
    "# employing Newton's Method - assuming t = 0\n",
    "class ImpliedVolatility:\n",
    "    def __init__(self,S0,K,T,r,sigma):\n",
    "        self.S0 = float(S0)\n",
    "        self.K = float(K)\n",
    "        self.T = float(T)\n",
    "        self.r = float(r)\n",
    "        self.sigma = float(sigma)\n",
    "    def getD1(self,sigma):\n",
    "        return (np.log(self.S0/self.K)+(self.r+((sigma**2)/2))*(self.T))/(sigma*(np.sqrt(self.T))) \n",
    "    def _callValue(self,sigma):\n",
    "        d1 = self.getD1(sigma) \n",
    "        d2 = (np.log(self.S0/self.K)+(self.r-((sigma**2)/2))*(self.T))/(sigma*(np.sqrt(self.T)))\n",
    "        firstVal = self.S0*scipy.stats.norm.cdf(d1)\n",
    "        secondVal = np.exp(-self.r*self.T)*self.K*scipy.stats.norm.cdf(d2)\n",
    "        return firstVal-secondVal\n",
    "    def _vega(self,sigma):\n",
    "        d1 = self.getD1(sigma)\n",
    "        return (self.S0)*scipy.stats.norm.cdf(d1)*(np.sqrt(self.T))                                              \n",
    "    def _newtonMethod(self,C0,iterations=100):\n",
    "        sigmaCurr = self.sigma\n",
    "        for i in range(iterations):\n",
    "            sigmaCurr -= (self._callValue(sigmaCurr)-C0)/(self._vega(sigmaCurr))\n",
    "        return sigmaCurr"
   ]
  },
  {
   "cell_type": "code",
   "execution_count": 20,
   "metadata": {
    "scrolled": true
   },
   "outputs": [
    {
     "name": "stderr",
     "output_type": "stream",
     "text": [
      "/Users/dylanc_home/opt/miniconda3/envs/myenv/lib/python3.8/site-packages/pandas/core/indexing.py:1637: SettingWithCopyWarning: \n",
      "A value is trying to be set on a copy of a slice from a DataFrame\n",
      "\n",
      "See the caveats in the documentation: https://pandas.pydata.org/pandas-docs/stable/user_guide/indexing.html#returning-a-view-versus-a-copy\n",
      "  self._setitem_single_block(indexer, value, name)\n"
     ]
    },
    {
     "data": {
      "text/html": [
       "<div>\n",
       "<style scoped>\n",
       "    .dataframe tbody tr th:only-of-type {\n",
       "        vertical-align: middle;\n",
       "    }\n",
       "\n",
       "    .dataframe tbody tr th {\n",
       "        vertical-align: top;\n",
       "    }\n",
       "\n",
       "    .dataframe thead th {\n",
       "        text-align: right;\n",
       "    }\n",
       "</style>\n",
       "<table border=\"1\" class=\"dataframe\">\n",
       "  <thead>\n",
       "    <tr style=\"text-align: right;\">\n",
       "      <th></th>\n",
       "      <th>DATE</th>\n",
       "      <th>EXP_YEAR</th>\n",
       "      <th>EXP_MONTH</th>\n",
       "      <th>TYPE</th>\n",
       "      <th>STRIKE</th>\n",
       "      <th>PRICE</th>\n",
       "      <th>MATURITY</th>\n",
       "      <th>TTM</th>\n",
       "      <th>IMPLIED_VOLATILITY</th>\n",
       "    </tr>\n",
       "  </thead>\n",
       "  <tbody>\n",
       "    <tr>\n",
       "      <th>46170</th>\n",
       "      <td>2014-03-31</td>\n",
       "      <td>2014</td>\n",
       "      <td>4</td>\n",
       "      <td>C</td>\n",
       "      <td>1.0</td>\n",
       "      <td>16.85</td>\n",
       "      <td>2014-04-18</td>\n",
       "      <td>0.049</td>\n",
       "      <td>0.0</td>\n",
       "    </tr>\n",
       "    <tr>\n",
       "      <th>46171</th>\n",
       "      <td>2014-03-31</td>\n",
       "      <td>2014</td>\n",
       "      <td>4</td>\n",
       "      <td>C</td>\n",
       "      <td>2.0</td>\n",
       "      <td>15.85</td>\n",
       "      <td>2014-04-18</td>\n",
       "      <td>0.049</td>\n",
       "      <td>0.0</td>\n",
       "    </tr>\n",
       "    <tr>\n",
       "      <th>46172</th>\n",
       "      <td>2014-03-31</td>\n",
       "      <td>2014</td>\n",
       "      <td>4</td>\n",
       "      <td>C</td>\n",
       "      <td>3.0</td>\n",
       "      <td>14.85</td>\n",
       "      <td>2014-04-18</td>\n",
       "      <td>0.049</td>\n",
       "      <td>0.0</td>\n",
       "    </tr>\n",
       "    <tr>\n",
       "      <th>46173</th>\n",
       "      <td>2014-03-31</td>\n",
       "      <td>2014</td>\n",
       "      <td>4</td>\n",
       "      <td>C</td>\n",
       "      <td>4.0</td>\n",
       "      <td>13.85</td>\n",
       "      <td>2014-04-18</td>\n",
       "      <td>0.049</td>\n",
       "      <td>0.0</td>\n",
       "    </tr>\n",
       "    <tr>\n",
       "      <th>46174</th>\n",
       "      <td>2014-03-31</td>\n",
       "      <td>2014</td>\n",
       "      <td>4</td>\n",
       "      <td>C</td>\n",
       "      <td>5.0</td>\n",
       "      <td>12.85</td>\n",
       "      <td>2014-04-18</td>\n",
       "      <td>0.049</td>\n",
       "      <td>0.0</td>\n",
       "    </tr>\n",
       "  </tbody>\n",
       "</table>\n",
       "</div>"
      ],
      "text/plain": [
       "            DATE  EXP_YEAR  EXP_MONTH TYPE  STRIKE  PRICE   MATURITY    TTM  \\\n",
       "46170 2014-03-31      2014          4    C     1.0  16.85 2014-04-18  0.049   \n",
       "46171 2014-03-31      2014          4    C     2.0  15.85 2014-04-18  0.049   \n",
       "46172 2014-03-31      2014          4    C     3.0  14.85 2014-04-18  0.049   \n",
       "46173 2014-03-31      2014          4    C     4.0  13.85 2014-04-18  0.049   \n",
       "46174 2014-03-31      2014          4    C     5.0  12.85 2014-04-18  0.049   \n",
       "\n",
       "       IMPLIED_VOLATILITY  \n",
       "46170                 0.0  \n",
       "46171                 0.0  \n",
       "46172                 0.0  \n",
       "46173                 0.0  \n",
       "46174                 0.0  "
      ]
     },
     "execution_count": 20,
     "metadata": {},
     "output_type": "execute_result"
    }
   ],
   "source": [
    "V0 = 17.6639\n",
    "r = 0.01\n",
    "tolerance = 0.5\n",
    "for i in options_data.index:\n",
    "    # strike price is fixed price at which an option can be sold/bought\n",
    "    # looking for options within tolerance range\n",
    "    first = futures_data[futures_data['MATURITY']==options_data.loc[i]['MATURITY']][\"PRICE\"].values[0]\n",
    "    if (first*(1-tolerance) < options_data.loc[i][\"STRIKE\"] < first*(1+tolerance)):\n",
    "        impVol = ImpliedVolatility(V0,\n",
    "                                   options_data.loc[i][\"STRIKE\"],\n",
    "                                   options_data.loc[i][\"TTM\"],\n",
    "                                   r,\n",
    "                                   2)\n",
    "        options_data[\"IMPLIED_VOLATILITY\"].loc[i] = impVol._newtonMethod(options_data.loc[i][\"PRICE\"])\n",
    "options_data.head()"
   ]
  },
  {
   "cell_type": "code",
   "execution_count": 22,
   "metadata": {},
   "outputs": [
    {
     "data": {
      "text/plain": [
       "[<matplotlib.lines.Line2D at 0x7f8255ca18e0>]"
      ]
     },
     "execution_count": 22,
     "metadata": {},
     "output_type": "execute_result"
    },
    {
     "data": {
      "image/png": "[encoded data removed]",
      "text/plain": [
       "<Figure size 432x288 with 1 Axes>"
      ]
     },
     "metadata": {
      "needs_background": "light"
     },
     "output_type": "display_data"
    }
   ],
   "source": [
    "plt.plot(options_data[\"MATURITY\"],options_data[\"PRICE\"],lw=2,color='g')"
   ]
  },
  {
   "cell_type": "code",
   "execution_count": 23,
   "metadata": {},
   "outputs": [],
   "source": [
    "plot_data = options_data[options_data[\"IMPLIED_VOLATILITY\"] > 0]"
   ]
  },
  {
   "cell_type": "code",
   "execution_count": 24,
   "metadata": {
    "scrolled": true
   },
   "outputs": [
    {
     "data": {
      "image/png": "[encoded data removed]",
      "text/plain": [
       "<Figure size 576x432 with 1 Axes>"
      ]
     },
     "metadata": {
      "needs_background": "light"
     },
     "output_type": "display_data"
    }
   ],
   "source": [
    "plt.figure(figsize=(8,6))\n",
    "maturities = sorted(set(plot_data[\"MATURITY\"]))\n",
    "for maturity in maturities:\n",
    "    subset = plot_data[plot_data[\"MATURITY\"] == maturity]\n",
    "    plt.plot(subset[\"STRIKE\"],subset[\"IMPLIED_VOLATILITY\"],label=maturity.date(),lw=1)\n",
    "plt.xlabel(\"Strike Prices\")\n",
    "plt.ylabel(\"Implied Volatilities\")\n",
    "plt.title(\"Implied Volatilities vs. Strike Prices\")\n",
    "plt.legend()\n",
    "plt.show()\n",
    "# VSTOXX from 2014"
   ]
  },
  {
   "cell_type": "markdown",
   "metadata": {},
   "source": [
    "## Monte Carlo Simulation\n",
    "\n",
    "Important for simulations and options pricing. MC can cope with higher dimensions but the issue comes from computational complexity. BSM differential equation: $dS_t = rS_td_t + \\sigma S_t d Z_t$. The euler discretization of the stochastic differential equation: $S_t = S_{t-\\triangle t} exp((r-\\frac{1}{2}\\sigma^2)\\triangle t+\\sigma \\sqrt{\\triangle t z_t})$. \n",
    "$C_0 \\approx e^{-rT} \\frac{1}{I} \\sum\\limits_{I} h_T(S_T(i))$. We'll use vectorization in Numpy. Numpy is implemented with C, which is fast."
   ]
  },
  {
   "cell_type": "code",
   "execution_count": 25,
   "metadata": {},
   "outputs": [
    {
     "name": "stdout",
     "output_type": "stream",
     "text": [
      "CPU times: user 361 ms, sys: 24.2 ms, total: 385 ms\n",
      "Wall time: 384 ms\n"
     ]
    }
   ],
   "source": [
    "%%time\n",
    "np.random.seed(20000)\n",
    "class MCSimulation:\n",
    "    def __init__(self,S0,K,T,r,sigma):\n",
    "        self.S0=S0\n",
    "        self.K=K\n",
    "        self.T=T\n",
    "        self.r=r\n",
    "        self.sigma=sigma\n",
    "    # going through M time steps - using vectors\n",
    "    def simulate(self,paths=250000,time_steps=50):\n",
    "        # each row is a time step. We add one since first row is the initialized state.\n",
    "        mat = np.zeros((time_steps+1,paths))\n",
    "        changeInTime = self.T/time_steps\n",
    "        mat[0] = self.S0\n",
    "        for t in range(1,time_steps+1):\n",
    "            r = np.random.normal(size=paths)\n",
    "            mat[t] = mat[t-1]*np.exp((self.r-(0.5*self.sigma**2))*changeInTime+\\\n",
    "                     self.sigma*(np.sqrt(changeInTime)*r))\n",
    "        # h_T(S_T(i)) = max(S_T-K,0)\n",
    "        est = np.exp(-self.r*self.T)*(1/paths)*np.sum(np.maximum(mat[time_steps]-self.K,0))\n",
    "        return (mat,est)\n",
    "monteCarloVStoxx = MCSimulation(100,105,1,0.05,0.2)\n",
    "mat,estC = monteCarloVStoxx.simulate()\n"
   ]
  },
  {
   "cell_type": "code",
   "execution_count": 26,
   "metadata": {
    "scrolled": true
   },
   "outputs": [
    {
     "data": {
      "image/png": "[encoded data removed]",
      "text/plain": [
       "<Figure size 432x288 with 1 Axes>"
      ]
     },
     "metadata": {
      "needs_background": "light"
     },
     "output_type": "display_data"
    }
   ],
   "source": [
    "simulPaths = plt.plot(mat[:,:10])\n",
    "plt.title(\"Simulated Paths\")\n",
    "plt.xlabel(\"Time Step\")\n",
    "plt.ylabel(\"Estimated Index Level\")\n",
    "plt.show()"
   ]
  },
  {
   "cell_type": "code",
   "execution_count": 27,
   "metadata": {},
   "outputs": [],
   "source": [
    "sp500 = web.DataReader('^GSPC', data_source='yahoo', start='1/1/2020', end='1/1/2021')"
   ]
  },
  {
   "cell_type": "code",
   "execution_count": 28,
   "metadata": {},
   "outputs": [],
   "source": [
    "alphabet = web.DataReader(\"GOOG\",data_source='yahoo',start='1/1/2020', end='1/1/2021')"
   ]
  },
  {
   "cell_type": "code",
   "execution_count": 29,
   "metadata": {},
   "outputs": [
    {
     "data": {
      "image/png": "[encoded data removed]",
      "text/plain": [
       "<Figure size 432x288 with 1 Axes>"
      ]
     },
     "metadata": {
      "needs_background": "light"
     },
     "output_type": "display_data"
    }
   ],
   "source": [
    "sp500_2020graph = sp500['High'].plot()"
   ]
  },
  {
   "cell_type": "code",
   "execution_count": 30,
   "metadata": {
    "scrolled": true
   },
   "outputs": [
    {
     "data": {
      "image/png": "[encoded data removed]",
      "text/plain": [
       "<Figure size 432x288 with 1 Axes>"
      ]
     },
     "metadata": {
      "needs_background": "light"
     },
     "output_type": "display_data"
    }
   ],
   "source": [
    "alphabet_2020graph = alphabet['Low'].plot()"
   ]
  },
  {
   "cell_type": "code",
   "execution_count": 31,
   "metadata": {},
   "outputs": [
    {
     "name": "stdout",
     "output_type": "stream",
     "text": [
      "<class 'pandas.core.frame.DataFrame'>\n",
      "DatetimeIndex: 253 entries, 2020-01-02 to 2020-12-31\n",
      "Data columns (total 6 columns):\n",
      " #   Column     Non-Null Count  Dtype  \n",
      "---  ------     --------------  -----  \n",
      " 0   High       253 non-null    float64\n",
      " 1   Low        253 non-null    float64\n",
      " 2   Open       253 non-null    float64\n",
      " 3   Close      253 non-null    float64\n",
      " 4   Volume     253 non-null    int64  \n",
      " 5   Adj Close  253 non-null    float64\n",
      "dtypes: float64(5), int64(1)\n",
      "memory usage: 13.8 KB\n"
     ]
    }
   ],
   "source": [
    "alphabet.info()"
   ]
  },
  {
   "cell_type": "markdown",
   "metadata": {},
   "source": [
    "**Because the price of a stock moves according to brownian motion, we write the corresponding exponential relation:** $S_T = S_0 e^{(\\mu-\\frac{1}{2}\\sigma^2)T + \\sigma W_T}$. "
   ]
  },
  {
   "cell_type": "markdown",
   "metadata": {},
   "source": [
    "## Another way to measure volality comes from visualization. Here we can use candlestick plots. "
   ]
  },
  {
   "cell_type": "code",
   "execution_count": 37,
   "metadata": {},
   "outputs": [
    {
     "data": {
      "application/vnd.plotly.v1+json": {
       "config": {
        "plotlyServerURL": "https://plot.ly"
       },
       "data": [
        {
         "close": [
          1367.3699951171875,
          1360.6600341796875,
          1394.2099609375,
          1393.3399658203125,
          1404.3199462890625,
          1419.8299560546875,
          1429.72998046875,
          1439.22998046875,
          1430.8800048828125,
          1439.199951171875,
          1451.699951171875,
          1480.3900146484375,
          1484.4000244140625,
          1485.949951171875,
          1486.6500244140625,
          1466.7099609375,
          1433.9000244140625,
          1452.56005859375,
          1458.6300048828125,
          1455.8399658203125,
          1434.22998046875,
          1485.93994140625,
          1447.0699462890625,
          1448.22998046875,
          1476.22998046875,
          1479.22998046875,
          1508.6800537109375,
          1508.7900390625,
          1518.27001953125,
          1514.6600341796875,
          1520.739990234375,
          1519.6700439453125,
          1526.68994140625,
          1518.1500244140625,
          1485.1099853515625,
          1421.5899658203125,
          1388.449951171875,
          1393.1800537109375,
          1318.0899658203125,
          1339.3299560546875,
          1389.1099853515625,
          1341.3900146484375,
          1386.52001953125,
          1319.0400390625,
          1298.4100341796875,
          1215.56005859375,
          1280.3900146484375,
          1215.4100341796875,
          1114.9100341796875,
          1219.72998046875,
          1084.3299560546875,
          1119.800048828125,
          1096.800048828125,
          1115.2900390625,
          1072.3199462890625,
          1056.6199951171875,
          1134.4599609375,
          1102.489990234375,
          1161.75,
          1110.7099609375,
          1146.8199462890625,
          1162.81005859375,
          1105.6199951171875,
          1120.8399658203125,
          1097.8800048828125,
          1186.9200439453125,
          1186.510009765625,
          1210.280029296875,
          1211.449951171875,
          1217.56005859375,
          1269.22998046875,
          1262.469970703125,
          1263.469970703125,
          1283.25,
          1266.6099853515625,
          1216.3399658203125,
          1263.2099609375,
          1276.31005859375,
          1279.31005859375,
          1275.8800048828125,
          1233.6700439453125,
          1341.47998046875,
          1348.6600341796875,
          1320.6099853515625,
          1326.800048828125,
          1351.1099853515625,
          1347.300048828125,
          1372.56005859375,
          1388.3699951171875,
          1403.260009765625,
          1375.739990234375,
          1349.3299560546875,
          1356.1300048828125,
          1373.18994140625,
          1383.93994140625,
          1373.4849853515625,
          1406.719970703125,
          1402.800048828125,
          1410.4200439453125,
          1417.02001953125,
          1417.8399658203125,
          1416.72998046875,
          1428.9200439453125,
          1431.8199462890625,
          1439.219970703125,
          1436.3800048828125,
          1412.1800537109375,
          1438.3900146484375,
          1446.6099853515625,
          1456.1600341796875,
          1465.8499755859375,
          1403.8399658203125,
          1413.1800537109375,
          1419.8499755859375,
          1442.719970703125,
          1451.1199951171875,
          1435.9599609375,
          1431.719970703125,
          1451.8599853515625,
          1464.4100341796875,
          1431.969970703125,
          1441.3299560546875,
          1359.9000244140625,
          1394.969970703125,
          1413.6099853515625,
          1438.0400390625,
          1464.699951171875,
          1495.699951171875,
          1485.1800537109375,
          1496,
          1510.989990234375,
          1541.739990234375,
          1511.3399658203125,
          1520.5799560546875,
          1513.6400146484375,
          1518,
          1515.550048828125,
          1565.719970703125,
          1558.4200439453125,
          1568.489990234375,
          1515.6800537109375,
          1511.8699951171875,
          1530.199951171875,
          1500.3399658203125,
          1522.02001953125,
          1531.449951171875,
          1482.9599609375,
          1474.449951171875,
          1464.969970703125,
          1473.6099853515625,
          1500.0999755859375,
          1494.489990234375,
          1496.0999755859375,
          1480.3199462890625,
          1506.6199951171875,
          1518.449951171875,
          1507.72998046875,
          1517.97998046875,
          1558.5999755859375,
          1547.530029296875,
          1581.75,
          1580.4200439453125,
          1588.199951171875,
          1608.219970703125,
          1652.3800048828125,
          1634.3299560546875,
          1644.4100341796875,
          1634.1800537109375,
          1660.7099609375,
          1728.280029296875,
          1641.8399658203125,
          1591.0400390625,
          1532.3900146484375,
          1556.9599609375,
          1532.02001953125,
          1520.719970703125,
          1519.280029296875,
          1541.43994140625,
          1520.9000244140625,
          1495.530029296875,
          1459.989990234375,
          1431.1600341796875,
          1465.4599609375,
          1415.2099609375,
          1428.2900390625,
          1444.9599609375,
          1464.52001953125,
          1469.3299560546875,
          1469.5999755859375,
          1490.0899658203125,
          1458.4200439453125,
          1486.02001953125,
          1453.43994140625,
          1460.2900390625,
          1485.9300537109375,
          1515.219970703125,
          1569.1500244140625,
          1571.6800537109375,
          1568.0799560546875,
          1559.1300048828125,
          1573.010009765625,
          1534.6099853515625,
          1555.9300537109375,
          1593.31005859375,
          1615.3299560546875,
          1641,
          1590.449951171875,
          1604.260009765625,
          1516.6199951171875,
          1567.239990234375,
          1621.010009765625,
          1626.030029296875,
          1650.2099609375,
          1749.1300048828125,
          1763.3699951171875,
          1761.75,
          1763,
          1740.3900146484375,
          1752.7099609375,
          1749.8399658203125,
          1777.02001953125,
          1781.3800048828125,
          1770.1500244140625,
          1746.780029296875,
          1763.9200439453125,
          1742.18994140625,
          1734.8599853515625,
          1768.8800048828125,
          1771.4300537109375,
          1793.18994140625,
          1760.739990234375,
          1798.0999755859375,
          1827.949951171875,
          1826.77001953125,
          1827.989990234375,
          1819.47998046875,
          1818.550048828125,
          1784.1300048828125,
          1775.3299560546875,
          1781.77001953125,
          1760.06005859375,
          1767.77001953125,
          1763,
          1747.9000244140625,
          1731.010009765625,
          1739.3699951171875,
          1723.5,
          1732.3800048828125,
          1738.8499755859375,
          1776.0899658203125,
          1758.719970703125,
          1739.52001953125,
          1751.8800048828125
         ],
         "high": [
          1368.1400146484375,
          1372.5,
          1396.5,
          1402.989990234375,
          1411.5799560546875,
          1427.3299560546875,
          1434.928955078125,
          1440.52001953125,
          1441.800048828125,
          1441.39501953125,
          1451.989990234375,
          1481.2950439453125,
          1491.8499755859375,
          1503.2139892578125,
          1495.52001953125,
          1495.4949951171875,
          1438.0699462890625,
          1456,
          1465.4300537109375,
          1457.280029296875,
          1470.1300048828125,
          1490,
          1469.5,
          1463.8399658203125,
          1482,
          1485.8399658203125,
          1509.5,
          1529.6300048828125,
          1520.6949462890625,
          1527.1800537109375,
          1520.739990234375,
          1531.6300048828125,
          1532.10595703125,
          1529.6400146484375,
          1512.2149658203125,
          1436.969970703125,
          1438.1400146484375,
          1415.699951171875,
          1371.7039794921875,
          1341.1400146484375,
          1390.8699951171875,
          1410.1500244140625,
          1388.0899658203125,
          1358.9100341796875,
          1306.219970703125,
          1254.760009765625,
          1281.1500244140625,
          1260.9599609375,
          1193.8699951171875,
          1219.760009765625,
          1152.2669677734375,
          1130.8599853515625,
          1106.5,
          1157.969970703125,
          1143.989990234375,
          1071.3199462890625,
          1135,
          1148.9000244140625,
          1169.969970703125,
          1150.6700439453125,
          1151.6300048828125,
          1175.31005859375,
          1129.68994140625,
          1126.8599853515625,
          1123.5400390625,
          1194.6600341796875,
          1225,
          1219.0699462890625,
          1225.5699462890625,
          1220.510009765625,
          1282.0699462890625,
          1280.4599609375,
          1279,
          1294.4300537109375,
          1281.5999755859375,
          1254.27001953125,
          1285.613037109375,
          1293.31005859375,
          1280.4000244140625,
          1296.1500244140625,
          1288.050048828125,
          1359.989990234375,
          1352.8199462890625,
          1352.0699462890625,
          1327.6600341796875,
          1373.93994140625,
          1371.1199951171875,
          1377.5999755859375,
          1398.760009765625,
          1416.530029296875,
          1415,
          1385.4820556640625,
          1357.4200439453125,
          1374.47998046875,
          1392.324951171875,
          1392,
          1410.4200439453125,
          1415.489990234375,
          1412.760009765625,
          1441,
          1421.739990234375,
          1440.8399658203125,
          1432.5699462890625,
          1437.9599609375,
          1439.6099853515625,
          1446.552001953125,
          1438.9599609375,
          1445.050048828125,
          1447.989990234375,
          1468,
          1474.259033203125,
          1454.4749755859375,
          1437,
          1424.800048828125,
          1455.02001953125,
          1460,
          1451.4100341796875,
          1447.800048828125,
          1452.75,
          1475.9410400390625,
          1475.4200439453125,
          1442.9000244140625,
          1433.449951171875,
          1395.5999755859375,
          1418.6500244140625,
          1443,
          1482.949951171875,
          1506.5899658203125,
          1516.800048828125,
          1505.8800048828125,
          1522.719970703125,
          1543.8299560546875,
          1577.1319580078125,
          1522.949951171875,
          1535.3299560546875,
          1518.68994140625,
          1523.43994140625,
          1570.2900390625,
          1586.989990234375,
          1570,
          1571.8699951171875,
          1517.635986328125,
          1540.969970703125,
          1526.47998046875,
          1531.251953125,
          1537.8699951171875,
          1508.949951171875,
          1490.469970703125,
          1485.56005859375,
          1482.4100341796875,
          1502.3900146484375,
          1516.844970703125,
          1504.074951171875,
          1510,
          1512.385986328125,
          1537.25,
          1521.9000244140625,
          1525.6099853515625,
          1562.469970703125,
          1573.6800537109375,
          1585.8699951171875,
          1597.719970703125,
          1614.1700439453125,
          1611.6199951171875,
          1659.219970703125,
          1655,
          1647.1700439453125,
          1647.9649658203125,
          1665.72998046875,
          1733.1800537109375,
          1709.7139892578125,
          1645.1099853515625,
          1563.864990234375,
          1569,
          1584.0810546875,
          1575.199951171875,
          1564,
          1559.5699462890625,
          1562,
          1508.2979736328125,
          1503.0030517578125,
          1448.3599853515625,
          1469.52001953125,
          1460.9599609375,
          1443.708984375,
          1450,
          1476.800048828125,
          1476.6629638671875,
          1489.75,
          1499.0400390625,
          1483.199951171875,
          1488.2099609375,
          1486.760009765625,
          1468.9599609375,
          1490,
          1516.52001953125,
          1593.8599853515625,
          1590,
          1587.6839599609375,
          1575.10498046875,
          1581.1300048828125,
          1588.1500244140625,
          1577.5,
          1618.72998046875,
          1621.989990234375,
          1642.3599853515625,
          1638.239990234375,
          1606.844970703125,
          1561.3499755859375,
          1593.7099609375,
          1687,
          1660.77001953125,
          1661.699951171875,
          1771.364990234375,
          1793.6400146484375,
          1772.4300537109375,
          1818.06005859375,
          1763,
          1764.219970703125,
          1768.27001953125,
          1781.0400390625,
          1799.0699462890625,
          1785,
          1773.469970703125,
          1769.5899658203125,
          1774,
          1753.9000244140625,
          1771.5999755859375,
          1778.5400390625,
          1804,
          1788.06494140625,
          1824.8299560546875,
          1835.6500244140625,
          1847.199951171875,
          1833.1600341796875,
          1832.3699951171875,
          1821.9000244140625,
          1834.27001953125,
          1781.31005859375,
          1784.449951171875,
          1797.3900146484375,
          1771.4200439453125,
          1773,
          1771.7840576171875,
          1755.1099853515625,
          1740.8499755859375,
          1737.405029296875,
          1747.989990234375,
          1746,
          1790.72802734375,
          1792.43994140625,
          1765.094970703125,
          1758.9300537109375
         ],
         "low": [
          1341.550048828125,
          1345.5439453125,
          1350,
          1390.3800048828125,
          1390.8399658203125,
          1410.27001953125,
          1418.3499755859375,
          1426.02001953125,
          1428.3699951171875,
          1430.2099609375,
          1440.9200439453125,
          1458.219970703125,
          1471.199951171875,
          1484.9300537109375,
          1482.0999755859375,
          1465.25,
          1421.199951171875,
          1432.469970703125,
          1446.739990234375,
          1436.4000244140625,
          1428.530029296875,
          1458.989990234375,
          1426.300048828125,
          1430.56005859375,
          1449.5699462890625,
          1466.3499755859375,
          1474.3199462890625,
          1505.637939453125,
          1508.1099853515625,
          1504.5999755859375,
          1507.3399658203125,
          1512.5899658203125,
          1521.4000244140625,
          1506.8199462890625,
          1480.43994140625,
          1411.3900146484375,
          1382.4000244140625,
          1379,
          1317.1700439453125,
          1271,
          1326.81494140625,
          1332,
          1343.1099853515625,
          1305.0999755859375,
          1261.050048828125,
          1200,
          1218.77001953125,
          1196.0699462890625,
          1113.300048828125,
          1117.1429443359375,
          1074.43994140625,
          1056.010009765625,
          1037.280029296875,
          1060.1080322265625,
          1065.489990234375,
          1013.5360107421875,
          1090.6199951171875,
          1086.010009765625,
          1093.530029296875,
          1105.9100341796875,
          1096.47998046875,
          1138.1400146484375,
          1097.449951171875,
          1096.4000244140625,
          1079.81005859375,
          1130.93994140625,
          1182.22998046875,
          1188.1600341796875,
          1196.7349853515625,
          1187.5980224609375,
          1236.9300537109375,
          1240.4000244140625,
          1242.6199951171875,
          1271.22998046875,
          1261.3699951171875,
          1209.7099609375,
          1242,
          1265.6700439453125,
          1249.449951171875,
          1269,
          1232.199951171875,
          1325.3399658203125,
          1322.489990234375,
          1311,
          1299,
          1337.4599609375,
          1347.2900390625,
          1355.27001953125,
          1375.47998046875,
          1377.1519775390625,
          1374.77001953125,
          1328.4000244140625,
          1323.9100341796875,
          1339,
          1354.25,
          1373.4849853515625,
          1387.25,
          1393.449951171875,
          1391.8299560546875,
          1412.1300048828125,
          1391.2900390625,
          1396,
          1413.3499755859375,
          1418,
          1418.8299560546875,
          1429.7769775390625,
          1404.72998046875,
          1406,
          1422.3399658203125,
          1443.2099609375,
          1456.27001953125,
          1402,
          1386.02001953125,
          1387.9200439453125,
          1425.9000244140625,
          1431.3800048828125,
          1427.010009765625,
          1421.3499755859375,
          1423.2099609375,
          1445.239990234375,
          1429.75,
          1420,
          1351.989990234375,
          1347.010009765625,
          1383.9599609375,
          1409.8199462890625,
          1446.4200439453125,
          1472.8599853515625,
          1483.550048828125,
          1485.6300048828125,
          1488.0849609375,
          1496.5400390625,
          1505.2430419921875,
          1483.5,
          1498,
          1486.31005859375,
          1498.4200439453125,
          1503.5999755859375,
          1554.280029296875,
          1546.0999755859375,
          1507.3919677734375,
          1488.4000244140625,
          1515.2099609375,
          1497.6600341796875,
          1501.3299560546875,
          1492.219970703125,
          1454.030029296875,
          1465.6400146484375,
          1458.6500244140625,
          1463.4599609375,
          1466,
          1481.6400146484375,
          1473.0799560546875,
          1478,
          1485.25,
          1508.0050048828125,
          1502.8800048828125,
          1507.969970703125,
          1523.7099609375,
          1543.949951171875,
          1538.199951171875,
          1568.0050048828125,
          1580.5699462890625,
          1582.0699462890625,
          1603.5999755859375,
          1625.75,
          1630.75,
          1630.31005859375,
          1632.219970703125,
          1666.3299560546875,
          1615.06005859375,
          1547.613037109375,
          1528.010009765625,
          1536.051025390625,
          1525.8050537109375,
          1497.3599853515625,
          1515.739990234375,
          1531.8349609375,
          1519.8199462890625,
          1470,
          1437.1300048828125,
          1406.550048828125,
          1434.530029296875,
          1407.699951171875,
          1409.8499755859375,
          1413.3399658203125,
          1449.301025390625,
          1458.8050537109375,
          1459.8800048828125,
          1479.2099609375,
          1450.9200439453125,
          1464.27001953125,
          1448.5899658203125,
          1436,
          1465.0899658203125,
          1489.449951171875,
          1532.5699462890625,
          1563.199951171875,
          1550.530029296875,
          1545.030029296875,
          1563,
          1528,
          1525.6700439453125,
          1571.6300048828125,
          1585,
          1620.510009765625,
          1576.5,
          1582.780029296875,
          1514.6199951171875,
          1522.239990234375,
          1604.4599609375,
          1616.030029296875,
          1616.6199951171875,
          1706.030029296875,
          1750.510009765625,
          1740.3499755859375,
          1760.02001953125,
          1717.300048828125,
          1747.364990234375,
          1745.5999755859375,
          1744.550048828125,
          1767.68994140625,
          1767,
          1746.1400146484375,
          1737.0050048828125,
          1741.8599853515625,
          1717.719970703125,
          1727.68994140625,
          1756.5400390625,
          1772.43994140625,
          1755,
          1769.3699951171875,
          1789.4730224609375,
          1822.6500244140625,
          1816.989990234375,
          1805.780029296875,
          1796.2049560546875,
          1767.81005859375,
          1740.3199462890625,
          1760,
          1757.2149658203125,
          1749.949951171875,
          1756.0799560546875,
          1738.6600341796875,
          1720.219970703125,
          1699,
          1712.574951171875,
          1725.0400390625,
          1729.1099853515625,
          1746.3349609375,
          1756.0899658203125,
          1725.5999755859375,
          1735.4200439453125
         ],
         "open": [
          1341.550048828125,
          1347.8599853515625,
          1350,
          1397.93994140625,
          1392.0799560546875,
          1420.5699462890625,
          1427.56005859375,
          1436.1300048828125,
          1439.010009765625,
          1430.2099609375,
          1447.43994140625,
          1462.9100341796875,
          1479.1199951171875,
          1491,
          1487.6400146484375,
          1493.5899658203125,
          1431,
          1443,
          1458.800048828125,
          1439.9599609375,
          1468.9000244140625,
          1462,
          1457.0699462890625,
          1462.4200439453125,
          1450.3299560546875,
          1467.300048828125,
          1474.3199462890625,
          1511.81005859375,
          1514.47998046875,
          1512.68994140625,
          1515.5999755859375,
          1515,
          1525.0699462890625,
          1522,
          1508.030029296875,
          1426.1099853515625,
          1433,
          1396.1400146484375,
          1362.06005859375,
          1277.5,
          1351.6099853515625,
          1399.4200439453125,
          1359.22998046875,
          1350.199951171875,
          1277.06005859375,
          1205.300048828125,
          1260,
          1249.699951171875,
          1126,
          1179,
          1096,
          1093.1099853515625,
          1056.510009765625,
          1093.050048828125,
          1135.719970703125,
          1061.3199462890625,
          1103.77001953125,
          1126.469970703125,
          1111.800048828125,
          1125.6700439453125,
          1125.0400390625,
          1147.300048828125,
          1122,
          1098.260009765625,
          1119.0150146484375,
          1138,
          1221,
          1206.5,
          1224.0799560546875,
          1209.1800537109375,
          1245.0899658203125,
          1245.6099853515625,
          1274.0999755859375,
          1284.8499755859375,
          1271,
          1247,
          1245.5400390625,
          1271.550048828125,
          1261.1700439453125,
          1296,
          1287.9300537109375,
          1341.4599609375,
          1324.8800048828125,
          1328.5,
          1308.22998046875,
          1337.9200439453125,
          1361.68994140625,
          1365.93994140625,
          1383.1300048828125,
          1378.280029296875,
          1407.1199951171875,
          1377.050048828125,
          1335.02001953125,
          1350,
          1361.75,
          1386.9969482421875,
          1389.5799560546875,
          1408,
          1396.7099609375,
          1437.27001953125,
          1417.25,
          1396.8599853515625,
          1416.93994140625,
          1418.3900146484375,
          1430.550048828125,
          1438.300048828125,
          1430.4000244140625,
          1413.1700439453125,
          1422.3399658203125,
          1445.3599853515625,
          1459.5400390625,
          1442.47998046875,
          1428.489990234375,
          1390.800048828125,
          1445.219970703125,
          1447.1600341796875,
          1449.1600341796875,
          1444,
          1429,
          1455.6400146484375,
          1461.510009765625,
          1429.9000244140625,
          1431.3900146484375,
          1358.1800537109375,
          1390.43994140625,
          1411.0999755859375,
          1446.93994140625,
          1480.06005859375,
          1490,
          1494.3199462890625,
          1506.449951171875,
          1506.1500244140625,
          1550,
          1490.31005859375,
          1523.1300048828125,
          1500,
          1521.6199951171875,
          1515.260009765625,
          1586.989990234375,
          1560.5,
          1566.969970703125,
          1498.9300537109375,
          1515.5999755859375,
          1525.1800537109375,
          1506.3199462890625,
          1497,
          1505.010009765625,
          1486.6400146484375,
          1476.5699462890625,
          1469.300048828125,
          1471.75,
          1500,
          1487.1800537109375,
          1492.43994140625,
          1485.5799560546875,
          1510.3399658203125,
          1515.6600341796875,
          1514.6700439453125,
          1526.1800537109375,
          1553.31005859375,
          1543.449951171875,
          1577.030029296875,
          1593.97998046875,
          1582.0699462890625,
          1608,
          1653.6800537109375,
          1633.489990234375,
          1647.8900146484375,
          1636.6300048828125,
          1673.7750244140625,
          1709.7139892578125,
          1624.260009765625,
          1533.510009765625,
          1557.530029296875,
          1560.6400146484375,
          1536,
          1539.0050048828125,
          1536,
          1555.5400390625,
          1496,
          1498.010009765625,
          1440.06005859375,
          1450.0899658203125,
          1458.780029296875,
          1411.030029296875,
          1432.6300048828125,
          1474.2099609375,
          1470.3900146484375,
          1466.800048828125,
          1484.27001953125,
          1462.030029296875,
          1466.2099609375,
          1475.5799560546875,
          1464.2900390625,
          1465.0899658203125,
          1494.699951171875,
          1543,
          1583.72998046875,
          1578.5899658203125,
          1547.1500244140625,
          1565.8499755859375,
          1580.4599609375,
          1527.050048828125,
          1573.3299560546875,
          1593.050048828125,
          1626.0699462890625,
          1625.010009765625,
          1595.6700439453125,
          1559.739990234375,
          1522.3599853515625,
          1672.1099853515625,
          1628.1600341796875,
          1631.780029296875,
          1710.280029296875,
          1781,
          1753.949951171875,
          1790.9000244140625,
          1731.0899658203125,
          1750,
          1747.6300048828125,
          1757.6300048828125,
          1771.699951171875,
          1776.93994140625,
          1765.22998046875,
          1738.3800048828125,
          1765.2099609375,
          1749.5999755859375,
          1730.5,
          1772.8900146484375,
          1773.0899658203125,
          1781.1839599609375,
          1774.3699951171875,
          1798.0999755859375,
          1824.010009765625,
          1824.52001953125,
          1819,
          1810.0999755859375,
          1812.010009765625,
          1769.800048828125,
          1763.06005859375,
          1775,
          1764.4200439453125,
          1772.8800048828125,
          1768.510009765625,
          1754.1800537109375,
          1713.510009765625,
          1734.4300537109375,
          1728.1099853515625,
          1735,
          1751.635009765625,
          1787.7900390625,
          1762.010009765625,
          1735.4200439453125
         ],
         "type": "candlestick",
         "x": [
          "2020-01-02T00:00:00",
          "2020-01-03T00:00:00",
          "2020-01-06T00:00:00",
          "2020-01-07T00:00:00",
          "2020-01-08T00:00:00",
          "2020-01-09T00:00:00",
          "2020-01-10T00:00:00",
          "2020-01-13T00:00:00",
          "2020-01-14T00:00:00",
          "2020-01-15T00:00:00",
          "2020-01-16T00:00:00",
          "2020-01-17T00:00:00",
          "2020-01-21T00:00:00",
          "2020-01-22T00:00:00",
          "2020-01-23T00:00:00",
          "2020-01-24T00:00:00",
          "2020-01-27T00:00:00",
          "2020-01-28T00:00:00",
          "2020-01-29T00:00:00",
          "2020-01-30T00:00:00",
          "2020-01-31T00:00:00",
          "2020-02-03T00:00:00",
          "2020-02-04T00:00:00",
          "2020-02-05T00:00:00",
          "2020-02-06T00:00:00",
          "2020-02-07T00:00:00",
          "2020-02-10T00:00:00",
          "2020-02-11T00:00:00",
          "2020-02-12T00:00:00",
          "2020-02-13T00:00:00",
          "2020-02-14T00:00:00",
          "2020-02-18T00:00:00",
          "2020-02-19T00:00:00",
          "2020-02-20T00:00:00",
          "2020-02-21T00:00:00",
          "2020-02-24T00:00:00",
          "2020-02-25T00:00:00",
          "2020-02-26T00:00:00",
          "2020-02-27T00:00:00",
          "2020-02-28T00:00:00",
          "2020-03-02T00:00:00",
          "2020-03-03T00:00:00",
          "2020-03-04T00:00:00",
          "2020-03-05T00:00:00",
          "2020-03-06T00:00:00",
          "2020-03-09T00:00:00",
          "2020-03-10T00:00:00",
          "2020-03-11T00:00:00",
          "2020-03-12T00:00:00",
          "2020-03-13T00:00:00",
          "2020-03-16T00:00:00",
          "2020-03-17T00:00:00",
          "2020-03-18T00:00:00",
          "2020-03-19T00:00:00",
          "2020-03-20T00:00:00",
          "2020-03-23T00:00:00",
          "2020-03-24T00:00:00",
          "2020-03-25T00:00:00",
          "2020-03-26T00:00:00",
          "2020-03-27T00:00:00",
          "2020-03-30T00:00:00",
          "2020-03-31T00:00:00",
          "2020-04-01T00:00:00",
          "2020-04-02T00:00:00",
          "2020-04-03T00:00:00",
          "2020-04-06T00:00:00",
          "2020-04-07T00:00:00",
          "2020-04-08T00:00:00",
          "2020-04-09T00:00:00",
          "2020-04-13T00:00:00",
          "2020-04-14T00:00:00",
          "2020-04-15T00:00:00",
          "2020-04-16T00:00:00",
          "2020-04-17T00:00:00",
          "2020-04-20T00:00:00",
          "2020-04-21T00:00:00",
          "2020-04-22T00:00:00",
          "2020-04-23T00:00:00",
          "2020-04-24T00:00:00",
          "2020-04-27T00:00:00",
          "2020-04-28T00:00:00",
          "2020-04-29T00:00:00",
          "2020-04-30T00:00:00",
          "2020-05-01T00:00:00",
          "2020-05-04T00:00:00",
          "2020-05-05T00:00:00",
          "2020-05-06T00:00:00",
          "2020-05-07T00:00:00",
          "2020-05-08T00:00:00",
          "2020-05-11T00:00:00",
          "2020-05-12T00:00:00",
          "2020-05-13T00:00:00",
          "2020-05-14T00:00:00",
          "2020-05-15T00:00:00",
          "2020-05-18T00:00:00",
          "2020-05-19T00:00:00",
          "2020-05-20T00:00:00",
          "2020-05-21T00:00:00",
          "2020-05-22T00:00:00",
          "2020-05-26T00:00:00",
          "2020-05-27T00:00:00",
          "2020-05-28T00:00:00",
          "2020-05-29T00:00:00",
          "2020-06-01T00:00:00",
          "2020-06-02T00:00:00",
          "2020-06-03T00:00:00",
          "2020-06-04T00:00:00",
          "2020-06-05T00:00:00",
          "2020-06-08T00:00:00",
          "2020-06-09T00:00:00",
          "2020-06-10T00:00:00",
          "2020-06-11T00:00:00",
          "2020-06-12T00:00:00",
          "2020-06-15T00:00:00",
          "2020-06-16T00:00:00",
          "2020-06-17T00:00:00",
          "2020-06-18T00:00:00",
          "2020-06-19T00:00:00",
          "2020-06-22T00:00:00",
          "2020-06-23T00:00:00",
          "2020-06-24T00:00:00",
          "2020-06-25T00:00:00",
          "2020-06-26T00:00:00",
          "2020-06-29T00:00:00",
          "2020-06-30T00:00:00",
          "2020-07-01T00:00:00",
          "2020-07-02T00:00:00",
          "2020-07-06T00:00:00",
          "2020-07-07T00:00:00",
          "2020-07-08T00:00:00",
          "2020-07-09T00:00:00",
          "2020-07-10T00:00:00",
          "2020-07-13T00:00:00",
          "2020-07-14T00:00:00",
          "2020-07-15T00:00:00",
          "2020-07-16T00:00:00",
          "2020-07-17T00:00:00",
          "2020-07-20T00:00:00",
          "2020-07-21T00:00:00",
          "2020-07-22T00:00:00",
          "2020-07-23T00:00:00",
          "2020-07-24T00:00:00",
          "2020-07-27T00:00:00",
          "2020-07-28T00:00:00",
          "2020-07-29T00:00:00",
          "2020-07-30T00:00:00",
          "2020-07-31T00:00:00",
          "2020-08-03T00:00:00",
          "2020-08-04T00:00:00",
          "2020-08-05T00:00:00",
          "2020-08-06T00:00:00",
          "2020-08-07T00:00:00",
          "2020-08-10T00:00:00",
          "2020-08-11T00:00:00",
          "2020-08-12T00:00:00",
          "2020-08-13T00:00:00",
          "2020-08-14T00:00:00",
          "2020-08-17T00:00:00",
          "2020-08-18T00:00:00",
          "2020-08-19T00:00:00",
          "2020-08-20T00:00:00",
          "2020-08-21T00:00:00",
          "2020-08-24T00:00:00",
          "2020-08-25T00:00:00",
          "2020-08-26T00:00:00",
          "2020-08-27T00:00:00",
          "2020-08-28T00:00:00",
          "2020-08-31T00:00:00",
          "2020-09-01T00:00:00",
          "2020-09-02T00:00:00",
          "2020-09-03T00:00:00",
          "2020-09-04T00:00:00",
          "2020-09-08T00:00:00",
          "2020-09-09T00:00:00",
          "2020-09-10T00:00:00",
          "2020-09-11T00:00:00",
          "2020-09-14T00:00:00",
          "2020-09-15T00:00:00",
          "2020-09-16T00:00:00",
          "2020-09-17T00:00:00",
          "2020-09-18T00:00:00",
          "2020-09-21T00:00:00",
          "2020-09-22T00:00:00",
          "2020-09-23T00:00:00",
          "2020-09-24T00:00:00",
          "2020-09-25T00:00:00",
          "2020-09-28T00:00:00",
          "2020-09-29T00:00:00",
          "2020-09-30T00:00:00",
          "2020-10-01T00:00:00",
          "2020-10-02T00:00:00",
          "2020-10-05T00:00:00",
          "2020-10-06T00:00:00",
          "2020-10-07T00:00:00",
          "2020-10-08T00:00:00",
          "2020-10-09T00:00:00",
          "2020-10-12T00:00:00",
          "2020-10-13T00:00:00",
          "2020-10-14T00:00:00",
          "2020-10-15T00:00:00",
          "2020-10-16T00:00:00",
          "2020-10-19T00:00:00",
          "2020-10-20T00:00:00",
          "2020-10-21T00:00:00",
          "2020-10-22T00:00:00",
          "2020-10-23T00:00:00",
          "2020-10-26T00:00:00",
          "2020-10-27T00:00:00",
          "2020-10-28T00:00:00",
          "2020-10-29T00:00:00",
          "2020-10-30T00:00:00",
          "2020-11-02T00:00:00",
          "2020-11-03T00:00:00",
          "2020-11-04T00:00:00",
          "2020-11-05T00:00:00",
          "2020-11-06T00:00:00",
          "2020-11-09T00:00:00",
          "2020-11-10T00:00:00",
          "2020-11-11T00:00:00",
          "2020-11-12T00:00:00",
          "2020-11-13T00:00:00",
          "2020-11-16T00:00:00",
          "2020-11-17T00:00:00",
          "2020-11-18T00:00:00",
          "2020-11-19T00:00:00",
          "2020-11-20T00:00:00",
          "2020-11-23T00:00:00",
          "2020-11-24T00:00:00",
          "2020-11-25T00:00:00",
          "2020-11-27T00:00:00",
          "2020-11-30T00:00:00",
          "2020-12-01T00:00:00",
          "2020-12-02T00:00:00",
          "2020-12-03T00:00:00",
          "2020-12-04T00:00:00",
          "2020-12-07T00:00:00",
          "2020-12-08T00:00:00",
          "2020-12-09T00:00:00",
          "2020-12-10T00:00:00",
          "2020-12-11T00:00:00",
          "2020-12-14T00:00:00",
          "2020-12-15T00:00:00",
          "2020-12-16T00:00:00",
          "2020-12-17T00:00:00",
          "2020-12-18T00:00:00",
          "2020-12-21T00:00:00",
          "2020-12-22T00:00:00",
          "2020-12-23T00:00:00",
          "2020-12-24T00:00:00",
          "2020-12-28T00:00:00",
          "2020-12-29T00:00:00",
          "2020-12-30T00:00:00",
          "2020-12-31T00:00:00"
         ]
        }
       ],
       "layout": {
        "template": {
         "data": {
          "bar": [
           {
            "error_x": {
             "color": "#2a3f5f"
            },
            "error_y": {
             "color": "#2a3f5f"
            },
            "marker": {
             "line": {
              "color": "#E5ECF6",
              "width": 0.5
             }
            },
            "type": "bar"
           }
          ],
          "barpolar": [
           {
            "marker": {
             "line": {
              "color": "#E5ECF6",
              "width": 0.5
             }
            },
            "type": "barpolar"
           }
          ],
          "carpet": [
           {
            "aaxis": {
             "endlinecolor": "#2a3f5f",
             "gridcolor": "white",
             "linecolor": "white",
             "minorgridcolor": "white",
             "startlinecolor": "#2a3f5f"
            },
            "baxis": {
             "endlinecolor": "#2a3f5f",
             "gridcolor": "white",
             "linecolor": "white",
             "minorgridcolor": "white",
             "startlinecolor": "#2a3f5f"
            },
            "type": "carpet"
           }
          ],
          "choropleth": [
           {
            "colorbar": {
             "outlinewidth": 0,
             "ticks": ""
            },
            "type": "choropleth"
           }
          ],
          "contour": [
           {
            "colorbar": {
             "outlinewidth": 0,
             "ticks": ""
            },
            "colorscale": [
             [
              0,
              "#0d0887"
             ],
             [
              0.1111111111111111,
              "#46039f"
             ],
             [
              0.2222222222222222,
              "#7201a8"
             ],
             [
              0.3333333333333333,
              "#9c179e"
             ],
             [
              0.4444444444444444,
              "#bd3786"
             ],
             [
              0.5555555555555556,
              "#d8576b"
             ],
             [
              0.6666666666666666,
              "#ed7953"
             ],
             [
              0.7777777777777778,
              "#fb9f3a"
             ],
             [
              0.8888888888888888,
              "#fdca26"
             ],
             [
              1,
              "#f0f921"
             ]
            ],
            "type": "contour"
           }
          ],
          "contourcarpet": [
           {
            "colorbar": {
             "outlinewidth": 0,
             "ticks": ""
            },
            "type": "contourcarpet"
           }
          ],
          "heatmap": [
           {
            "colorbar": {
             "outlinewidth": 0,
             "ticks": ""
            },
            "colorscale": [
             [
              0,
              "#0d0887"
             ],
             [
              0.1111111111111111,
              "#46039f"
             ],
             [
              0.2222222222222222,
              "#7201a8"
             ],
             [
              0.3333333333333333,
              "#9c179e"
             ],
             [
              0.4444444444444444,
              "#bd3786"
             ],
             [
              0.5555555555555556,
              "#d8576b"
             ],
             [
              0.6666666666666666,
              "#ed7953"
             ],
             [
              0.7777777777777778,
              "#fb9f3a"
             ],
             [
              0.8888888888888888,
              "#fdca26"
             ],
             [
              1,
              "#f0f921"
             ]
            ],
            "type": "heatmap"
           }
          ],
          "heatmapgl": [
           {
            "colorbar": {
             "outlinewidth": 0,
             "ticks": ""
            },
            "colorscale": [
             [
              0,
              "#0d0887"
             ],
             [
              0.1111111111111111,
              "#46039f"
             ],
             [
              0.2222222222222222,
              "#7201a8"
             ],
             [
              0.3333333333333333,
              "#9c179e"
             ],
             [
              0.4444444444444444,
              "#bd3786"
             ],
             [
              0.5555555555555556,
              "#d8576b"
             ],
             [
              0.6666666666666666,
              "#ed7953"
             ],
             [
              0.7777777777777778,
              "#fb9f3a"
             ],
             [
              0.8888888888888888,
              "#fdca26"
             ],
             [
              1,
              "#f0f921"
             ]
            ],
            "type": "heatmapgl"
           }
          ],
          "histogram": [
           {
            "marker": {
             "colorbar": {
              "outlinewidth": 0,
              "ticks": ""
             }
            },
            "type": "histogram"
           }
          ],
          "histogram2d": [
           {
            "colorbar": {
             "outlinewidth": 0,
             "ticks": ""
            },
            "colorscale": [
             [
              0,
              "#0d0887"
             ],
             [
              0.1111111111111111,
              "#46039f"
             ],
             [
              0.2222222222222222,
              "#7201a8"
             ],
             [
              0.3333333333333333,
              "#9c179e"
             ],
             [
              0.4444444444444444,
              "#bd3786"
             ],
             [
              0.5555555555555556,
              "#d8576b"
             ],
             [
              0.6666666666666666,
              "#ed7953"
             ],
             [
              0.7777777777777778,
              "#fb9f3a"
             ],
             [
              0.8888888888888888,
              "#fdca26"
             ],
             [
              1,
              "#f0f921"
             ]
            ],
            "type": "histogram2d"
           }
          ],
          "histogram2dcontour": [
           {
            "colorbar": {
             "outlinewidth": 0,
             "ticks": ""
            },
            "colorscale": [
             [
              0,
              "#0d0887"
             ],
             [
              0.1111111111111111,
              "#46039f"
             ],
             [
              0.2222222222222222,
              "#7201a8"
             ],
             [
              0.3333333333333333,
              "#9c179e"
             ],
             [
              0.4444444444444444,
              "#bd3786"
             ],
             [
              0.5555555555555556,
              "#d8576b"
             ],
             [
              0.6666666666666666,
              "#ed7953"
             ],
             [
              0.7777777777777778,
              "#fb9f3a"
             ],
             [
              0.8888888888888888,
              "#fdca26"
             ],
             [
              1,
              "#f0f921"
             ]
            ],
            "type": "histogram2dcontour"
           }
          ],
          "mesh3d": [
           {
            "colorbar": {
             "outlinewidth": 0,
             "ticks": ""
            },
            "type": "mesh3d"
           }
          ],
          "parcoords": [
           {
            "line": {
             "colorbar": {
              "outlinewidth": 0,
              "ticks": ""
             }
            },
            "type": "parcoords"
           }
          ],
          "pie": [
           {
            "automargin": true,
            "type": "pie"
           }
          ],
          "scatter": [
           {
            "marker": {
             "colorbar": {
              "outlinewidth": 0,
              "ticks": ""
             }
            },
            "type": "scatter"
           }
          ],
          "scatter3d": [
           {
            "line": {
             "colorbar": {
              "outlinewidth": 0,
              "ticks": ""
             }
            },
            "marker": {
             "colorbar": {
              "outlinewidth": 0,
              "ticks": ""
             }
            },
            "type": "scatter3d"
           }
          ],
          "scattercarpet": [
           {
            "marker": {
             "colorbar": {
              "outlinewidth": 0,
              "ticks": ""
             }
            },
            "type": "scattercarpet"
           }
          ],
          "scattergeo": [
           {
            "marker": {
             "colorbar": {
              "outlinewidth": 0,
              "ticks": ""
             }
            },
            "type": "scattergeo"
           }
          ],
          "scattergl": [
           {
            "marker": {
             "colorbar": {
              "outlinewidth": 0,
              "ticks": ""
             }
            },
            "type": "scattergl"
           }
          ],
          "scattermapbox": [
           {
            "marker": {
             "colorbar": {
              "outlinewidth": 0,
              "ticks": ""
             }
            },
            "type": "scattermapbox"
           }
          ],
          "scatterpolar": [
           {
            "marker": {
             "colorbar": {
              "outlinewidth": 0,
              "ticks": ""
             }
            },
            "type": "scatterpolar"
           }
          ],
          "scatterpolargl": [
           {
            "marker": {
             "colorbar": {
              "outlinewidth": 0,
              "ticks": ""
             }
            },
            "type": "scatterpolargl"
           }
          ],
          "scatterternary": [
           {
            "marker": {
             "colorbar": {
              "outlinewidth": 0,
              "ticks": ""
             }
            },
            "type": "scatterternary"
           }
          ],
          "surface": [
           {
            "colorbar": {
             "outlinewidth": 0,
             "ticks": ""
            },
            "colorscale": [
             [
              0,
              "#0d0887"
             ],
             [
              0.1111111111111111,
              "#46039f"
             ],
             [
              0.2222222222222222,
              "#7201a8"
             ],
             [
              0.3333333333333333,
              "#9c179e"
             ],
             [
              0.4444444444444444,
              "#bd3786"
             ],
             [
              0.5555555555555556,
              "#d8576b"
             ],
             [
              0.6666666666666666,
              "#ed7953"
             ],
             [
              0.7777777777777778,
              "#fb9f3a"
             ],
             [
              0.8888888888888888,
              "#fdca26"
             ],
             [
              1,
              "#f0f921"
             ]
            ],
            "type": "surface"
           }
          ],
          "table": [
           {
            "cells": {
             "fill": {
              "color": "#EBF0F8"
             },
             "line": {
              "color": "white"
             }
            },
            "header": {
             "fill": {
              "color": "#C8D4E3"
             },
             "line": {
              "color": "white"
             }
            },
            "type": "table"
           }
          ]
         },
         "layout": {
          "annotationdefaults": {
           "arrowcolor": "#2a3f5f",
           "arrowhead": 0,
           "arrowwidth": 1
          },
          "autotypenumbers": "strict",
          "coloraxis": {
           "colorbar": {
            "outlinewidth": 0,
            "ticks": ""
           }
          },
          "colorscale": {
           "diverging": [
            [
             0,
             "#8e0152"
            ],
            [
             0.1,
             "#c51b7d"
            ],
            [
             0.2,
             "#de77ae"
            ],
            [
             0.3,
             "#f1b6da"
            ],
            [
             0.4,
             "#fde0ef"
            ],
            [
             0.5,
             "#f7f7f7"
            ],
            [
             0.6,
             "#e6f5d0"
            ],
            [
             0.7,
             "#b8e186"
            ],
            [
             0.8,
             "#7fbc41"
            ],
            [
             0.9,
             "#4d9221"
            ],
            [
             1,
             "#276419"
            ]
           ],
           "sequential": [
            [
             0,
             "#0d0887"
            ],
            [
             0.1111111111111111,
             "#46039f"
            ],
            [
             0.2222222222222222,
             "#7201a8"
            ],
            [
             0.3333333333333333,
             "#9c179e"
            ],
            [
             0.4444444444444444,
             "#bd3786"
            ],
            [
             0.5555555555555556,
             "#d8576b"
            ],
            [
             0.6666666666666666,
             "#ed7953"
            ],
            [
             0.7777777777777778,
             "#fb9f3a"
            ],
            [
             0.8888888888888888,
             "#fdca26"
            ],
            [
             1,
             "#f0f921"
            ]
           ],
           "sequentialminus": [
            [
             0,
             "#0d0887"
            ],
            [
             0.1111111111111111,
             "#46039f"
            ],
            [
             0.2222222222222222,
             "#7201a8"
            ],
            [
             0.3333333333333333,
             "#9c179e"
            ],
            [
             0.4444444444444444,
             "#bd3786"
            ],
            [
             0.5555555555555556,
             "#d8576b"
            ],
            [
             0.6666666666666666,
             "#ed7953"
            ],
            [
             0.7777777777777778,
             "#fb9f3a"
            ],
            [
             0.8888888888888888,
             "#fdca26"
            ],
            [
             1,
             "#f0f921"
            ]
           ]
          },
          "colorway": [
           "#636efa",
           "#EF553B",
           "#00cc96",
           "#ab63fa",
           "#FFA15A",
           "#19d3f3",
           "#FF6692",
           "#B6E880",
           "#FF97FF",
           "#FECB52"
          ],
          "font": {
           "color": "#2a3f5f"
          },
          "geo": {
           "bgcolor": "white",
           "lakecolor": "white",
           "landcolor": "#E5ECF6",
           "showlakes": true,
           "showland": true,
           "subunitcolor": "white"
          },
          "hoverlabel": {
           "align": "left"
          },
          "hovermode": "closest",
          "mapbox": {
           "style": "light"
          },
          "paper_bgcolor": "white",
          "plot_bgcolor": "#E5ECF6",
          "polar": {
           "angularaxis": {
            "gridcolor": "white",
            "linecolor": "white",
            "ticks": ""
           },
           "bgcolor": "#E5ECF6",
           "radialaxis": {
            "gridcolor": "white",
            "linecolor": "white",
            "ticks": ""
           }
          },
          "scene": {
           "xaxis": {
            "backgroundcolor": "#E5ECF6",
            "gridcolor": "white",
            "gridwidth": 2,
            "linecolor": "white",
            "showbackground": true,
            "ticks": "",
            "zerolinecolor": "white"
           },
           "yaxis": {
            "backgroundcolor": "#E5ECF6",
            "gridcolor": "white",
            "gridwidth": 2,
            "linecolor": "white",
            "showbackground": true,
            "ticks": "",
            "zerolinecolor": "white"
           },
           "zaxis": {
            "backgroundcolor": "#E5ECF6",
            "gridcolor": "white",
            "gridwidth": 2,
            "linecolor": "white",
            "showbackground": true,
            "ticks": "",
            "zerolinecolor": "white"
           }
          },
          "shapedefaults": {
           "line": {
            "color": "#2a3f5f"
           }
          },
          "ternary": {
           "aaxis": {
            "gridcolor": "white",
            "linecolor": "white",
            "ticks": ""
           },
           "baxis": {
            "gridcolor": "white",
            "linecolor": "white",
            "ticks": ""
           },
           "bgcolor": "#E5ECF6",
           "caxis": {
            "gridcolor": "white",
            "linecolor": "white",
            "ticks": ""
           }
          },
          "title": {
           "x": 0.05
          },
          "xaxis": {
           "automargin": true,
           "gridcolor": "white",
           "linecolor": "white",
           "ticks": "",
           "title": {
            "standoff": 15
           },
           "zerolinecolor": "white",
           "zerolinewidth": 2
          },
          "yaxis": {
           "automargin": true,
           "gridcolor": "white",
           "linecolor": "white",
           "ticks": "",
           "title": {
            "standoff": 15
           },
           "zerolinecolor": "white",
           "zerolinewidth": 2
          }
         }
        },
        "title": {
         "text": "Alphabet's Stock during 2020"
        },
        "xaxis": {
         "title": {
          "text": "Dates"
         }
        },
        "yaxis": {
         "title": {
          "text": "GOOG Stock"
         }
        }
       }
      },
      "text/html": [
       "<div>                            <div id=\"c8d438ed-0956-419b-8a46-31f270ffe333\" class=\"plotly-graph-div\" style=\"height:525px; width:100%;\"></div>            <script type=\"text/javascript\">                require([\"plotly\"], function(Plotly) {                    window.PLOTLYENV=window.PLOTLYENV || {};                                    if (document.getElementById(\"c8d438ed-0956-419b-8a46-31f270ffe333\")) {                    Plotly.newPlot(                        \"c8d438ed-0956-419b-8a46-31f270ffe333\",                        [{\"close\": [1367.3699951171875, 1360.6600341796875, 1394.2099609375, 1393.3399658203125, 1404.3199462890625, 1419.8299560546875, 1429.72998046875, 1439.22998046875, 1430.8800048828125, 1439.199951171875, 1451.699951171875, 1480.3900146484375, 1484.4000244140625, 1485.949951171875, 1486.6500244140625, 1466.7099609375, 1433.9000244140625, 1452.56005859375, 1458.6300048828125, 1455.8399658203125, 1434.22998046875, 1485.93994140625, 1447.0699462890625, 1448.22998046875, 1476.22998046875, 1479.22998046875, 1508.6800537109375, 1508.7900390625, 1518.27001953125, 1514.6600341796875, 1520.739990234375, 1519.6700439453125, 1526.68994140625, 1518.1500244140625, 1485.1099853515625, 1421.5899658203125, 1388.449951171875, 1393.1800537109375, 1318.0899658203125, 1339.3299560546875, 1389.1099853515625, 1341.3900146484375, 1386.52001953125, 1319.0400390625, 1298.4100341796875, 1215.56005859375, 1280.3900146484375, 1215.4100341796875, 1114.9100341796875, 1219.72998046875, 1084.3299560546875, 1119.800048828125, 1096.800048828125, 1115.2900390625, 1072.3199462890625, 1056.6199951171875, 1134.4599609375, 1102.489990234375, 1161.75, 1110.7099609375, 1146.8199462890625, 1162.81005859375, 1105.6199951171875, 1120.8399658203125, 1097.8800048828125, 1186.9200439453125, 1186.510009765625, 1210.280029296875, 1211.449951171875, 1217.56005859375, 1269.22998046875, 1262.469970703125, 1263.469970703125, 1283.25, 1266.6099853515625, 1216.3399658203125, 1263.2099609375, 1276.31005859375, 1279.31005859375, 1275.8800048828125, 1233.6700439453125, 1341.47998046875, 1348.6600341796875, 1320.6099853515625, 1326.800048828125, 1351.1099853515625, 1347.300048828125, 1372.56005859375, 1388.3699951171875, 1403.260009765625, 1375.739990234375, 1349.3299560546875, 1356.1300048828125, 1373.18994140625, 1383.93994140625, 1373.4849853515625, 1406.719970703125, 1402.800048828125, 1410.4200439453125, 1417.02001953125, 1417.8399658203125, 1416.72998046875, 1428.9200439453125, 1431.8199462890625, 1439.219970703125, 1436.3800048828125, 1412.1800537109375, 1438.3900146484375, 1446.6099853515625, 1456.1600341796875, 1465.8499755859375, 1403.8399658203125, 1413.1800537109375, 1419.8499755859375, 1442.719970703125, 1451.1199951171875, 1435.9599609375, 1431.719970703125, 1451.8599853515625, 1464.4100341796875, 1431.969970703125, 1441.3299560546875, 1359.9000244140625, 1394.969970703125, 1413.6099853515625, 1438.0400390625, 1464.699951171875, 1495.699951171875, 1485.1800537109375, 1496.0, 1510.989990234375, 1541.739990234375, 1511.3399658203125, 1520.5799560546875, 1513.6400146484375, 1518.0, 1515.550048828125, 1565.719970703125, 1558.4200439453125, 1568.489990234375, 1515.6800537109375, 1511.8699951171875, 1530.199951171875, 1500.3399658203125, 1522.02001953125, 1531.449951171875, 1482.9599609375, 1474.449951171875, 1464.969970703125, 1473.6099853515625, 1500.0999755859375, 1494.489990234375, 1496.0999755859375, 1480.3199462890625, 1506.6199951171875, 1518.449951171875, 1507.72998046875, 1517.97998046875, 1558.5999755859375, 1547.530029296875, 1581.75, 1580.4200439453125, 1588.199951171875, 1608.219970703125, 1652.3800048828125, 1634.3299560546875, 1644.4100341796875, 1634.1800537109375, 1660.7099609375, 1728.280029296875, 1641.8399658203125, 1591.0400390625, 1532.3900146484375, 1556.9599609375, 1532.02001953125, 1520.719970703125, 1519.280029296875, 1541.43994140625, 1520.9000244140625, 1495.530029296875, 1459.989990234375, 1431.1600341796875, 1465.4599609375, 1415.2099609375, 1428.2900390625, 1444.9599609375, 1464.52001953125, 1469.3299560546875, 1469.5999755859375, 1490.0899658203125, 1458.4200439453125, 1486.02001953125, 1453.43994140625, 1460.2900390625, 1485.9300537109375, 1515.219970703125, 1569.1500244140625, 1571.6800537109375, 1568.0799560546875, 1559.1300048828125, 1573.010009765625, 1534.6099853515625, 1555.9300537109375, 1593.31005859375, 1615.3299560546875, 1641.0, 1590.449951171875, 1604.260009765625, 1516.6199951171875, 1567.239990234375, 1621.010009765625, 1626.030029296875, 1650.2099609375, 1749.1300048828125, 1763.3699951171875, 1761.75, 1763.0, 1740.3900146484375, 1752.7099609375, 1749.8399658203125, 1777.02001953125, 1781.3800048828125, 1770.1500244140625, 1746.780029296875, 1763.9200439453125, 1742.18994140625, 1734.8599853515625, 1768.8800048828125, 1771.4300537109375, 1793.18994140625, 1760.739990234375, 1798.0999755859375, 1827.949951171875, 1826.77001953125, 1827.989990234375, 1819.47998046875, 1818.550048828125, 1784.1300048828125, 1775.3299560546875, 1781.77001953125, 1760.06005859375, 1767.77001953125, 1763.0, 1747.9000244140625, 1731.010009765625, 1739.3699951171875, 1723.5, 1732.3800048828125, 1738.8499755859375, 1776.0899658203125, 1758.719970703125, 1739.52001953125, 1751.8800048828125], \"high\": [1368.1400146484375, 1372.5, 1396.5, 1402.989990234375, 1411.5799560546875, 1427.3299560546875, 1434.928955078125, 1440.52001953125, 1441.800048828125, 1441.39501953125, 1451.989990234375, 1481.2950439453125, 1491.8499755859375, 1503.2139892578125, 1495.52001953125, 1495.4949951171875, 1438.0699462890625, 1456.0, 1465.4300537109375, 1457.280029296875, 1470.1300048828125, 1490.0, 1469.5, 1463.8399658203125, 1482.0, 1485.8399658203125, 1509.5, 1529.6300048828125, 1520.6949462890625, 1527.1800537109375, 1520.739990234375, 1531.6300048828125, 1532.10595703125, 1529.6400146484375, 1512.2149658203125, 1436.969970703125, 1438.1400146484375, 1415.699951171875, 1371.7039794921875, 1341.1400146484375, 1390.8699951171875, 1410.1500244140625, 1388.0899658203125, 1358.9100341796875, 1306.219970703125, 1254.760009765625, 1281.1500244140625, 1260.9599609375, 1193.8699951171875, 1219.760009765625, 1152.2669677734375, 1130.8599853515625, 1106.5, 1157.969970703125, 1143.989990234375, 1071.3199462890625, 1135.0, 1148.9000244140625, 1169.969970703125, 1150.6700439453125, 1151.6300048828125, 1175.31005859375, 1129.68994140625, 1126.8599853515625, 1123.5400390625, 1194.6600341796875, 1225.0, 1219.0699462890625, 1225.5699462890625, 1220.510009765625, 1282.0699462890625, 1280.4599609375, 1279.0, 1294.4300537109375, 1281.5999755859375, 1254.27001953125, 1285.613037109375, 1293.31005859375, 1280.4000244140625, 1296.1500244140625, 1288.050048828125, 1359.989990234375, 1352.8199462890625, 1352.0699462890625, 1327.6600341796875, 1373.93994140625, 1371.1199951171875, 1377.5999755859375, 1398.760009765625, 1416.530029296875, 1415.0, 1385.4820556640625, 1357.4200439453125, 1374.47998046875, 1392.324951171875, 1392.0, 1410.4200439453125, 1415.489990234375, 1412.760009765625, 1441.0, 1421.739990234375, 1440.8399658203125, 1432.5699462890625, 1437.9599609375, 1439.6099853515625, 1446.552001953125, 1438.9599609375, 1445.050048828125, 1447.989990234375, 1468.0, 1474.259033203125, 1454.4749755859375, 1437.0, 1424.800048828125, 1455.02001953125, 1460.0, 1451.4100341796875, 1447.800048828125, 1452.75, 1475.9410400390625, 1475.4200439453125, 1442.9000244140625, 1433.449951171875, 1395.5999755859375, 1418.6500244140625, 1443.0, 1482.949951171875, 1506.5899658203125, 1516.800048828125, 1505.8800048828125, 1522.719970703125, 1543.8299560546875, 1577.1319580078125, 1522.949951171875, 1535.3299560546875, 1518.68994140625, 1523.43994140625, 1570.2900390625, 1586.989990234375, 1570.0, 1571.8699951171875, 1517.635986328125, 1540.969970703125, 1526.47998046875, 1531.251953125, 1537.8699951171875, 1508.949951171875, 1490.469970703125, 1485.56005859375, 1482.4100341796875, 1502.3900146484375, 1516.844970703125, 1504.074951171875, 1510.0, 1512.385986328125, 1537.25, 1521.9000244140625, 1525.6099853515625, 1562.469970703125, 1573.6800537109375, 1585.8699951171875, 1597.719970703125, 1614.1700439453125, 1611.6199951171875, 1659.219970703125, 1655.0, 1647.1700439453125, 1647.9649658203125, 1665.72998046875, 1733.1800537109375, 1709.7139892578125, 1645.1099853515625, 1563.864990234375, 1569.0, 1584.0810546875, 1575.199951171875, 1564.0, 1559.5699462890625, 1562.0, 1508.2979736328125, 1503.0030517578125, 1448.3599853515625, 1469.52001953125, 1460.9599609375, 1443.708984375, 1450.0, 1476.800048828125, 1476.6629638671875, 1489.75, 1499.0400390625, 1483.199951171875, 1488.2099609375, 1486.760009765625, 1468.9599609375, 1490.0, 1516.52001953125, 1593.8599853515625, 1590.0, 1587.6839599609375, 1575.10498046875, 1581.1300048828125, 1588.1500244140625, 1577.5, 1618.72998046875, 1621.989990234375, 1642.3599853515625, 1638.239990234375, 1606.844970703125, 1561.3499755859375, 1593.7099609375, 1687.0, 1660.77001953125, 1661.699951171875, 1771.364990234375, 1793.6400146484375, 1772.4300537109375, 1818.06005859375, 1763.0, 1764.219970703125, 1768.27001953125, 1781.0400390625, 1799.0699462890625, 1785.0, 1773.469970703125, 1769.5899658203125, 1774.0, 1753.9000244140625, 1771.5999755859375, 1778.5400390625, 1804.0, 1788.06494140625, 1824.8299560546875, 1835.6500244140625, 1847.199951171875, 1833.1600341796875, 1832.3699951171875, 1821.9000244140625, 1834.27001953125, 1781.31005859375, 1784.449951171875, 1797.3900146484375, 1771.4200439453125, 1773.0, 1771.7840576171875, 1755.1099853515625, 1740.8499755859375, 1737.405029296875, 1747.989990234375, 1746.0, 1790.72802734375, 1792.43994140625, 1765.094970703125, 1758.9300537109375], \"low\": [1341.550048828125, 1345.5439453125, 1350.0, 1390.3800048828125, 1390.8399658203125, 1410.27001953125, 1418.3499755859375, 1426.02001953125, 1428.3699951171875, 1430.2099609375, 1440.9200439453125, 1458.219970703125, 1471.199951171875, 1484.9300537109375, 1482.0999755859375, 1465.25, 1421.199951171875, 1432.469970703125, 1446.739990234375, 1436.4000244140625, 1428.530029296875, 1458.989990234375, 1426.300048828125, 1430.56005859375, 1449.5699462890625, 1466.3499755859375, 1474.3199462890625, 1505.637939453125, 1508.1099853515625, 1504.5999755859375, 1507.3399658203125, 1512.5899658203125, 1521.4000244140625, 1506.8199462890625, 1480.43994140625, 1411.3900146484375, 1382.4000244140625, 1379.0, 1317.1700439453125, 1271.0, 1326.81494140625, 1332.0, 1343.1099853515625, 1305.0999755859375, 1261.050048828125, 1200.0, 1218.77001953125, 1196.0699462890625, 1113.300048828125, 1117.1429443359375, 1074.43994140625, 1056.010009765625, 1037.280029296875, 1060.1080322265625, 1065.489990234375, 1013.5360107421875, 1090.6199951171875, 1086.010009765625, 1093.530029296875, 1105.9100341796875, 1096.47998046875, 1138.1400146484375, 1097.449951171875, 1096.4000244140625, 1079.81005859375, 1130.93994140625, 1182.22998046875, 1188.1600341796875, 1196.7349853515625, 1187.5980224609375, 1236.9300537109375, 1240.4000244140625, 1242.6199951171875, 1271.22998046875, 1261.3699951171875, 1209.7099609375, 1242.0, 1265.6700439453125, 1249.449951171875, 1269.0, 1232.199951171875, 1325.3399658203125, 1322.489990234375, 1311.0, 1299.0, 1337.4599609375, 1347.2900390625, 1355.27001953125, 1375.47998046875, 1377.1519775390625, 1374.77001953125, 1328.4000244140625, 1323.9100341796875, 1339.0, 1354.25, 1373.4849853515625, 1387.25, 1393.449951171875, 1391.8299560546875, 1412.1300048828125, 1391.2900390625, 1396.0, 1413.3499755859375, 1418.0, 1418.8299560546875, 1429.7769775390625, 1404.72998046875, 1406.0, 1422.3399658203125, 1443.2099609375, 1456.27001953125, 1402.0, 1386.02001953125, 1387.9200439453125, 1425.9000244140625, 1431.3800048828125, 1427.010009765625, 1421.3499755859375, 1423.2099609375, 1445.239990234375, 1429.75, 1420.0, 1351.989990234375, 1347.010009765625, 1383.9599609375, 1409.8199462890625, 1446.4200439453125, 1472.8599853515625, 1483.550048828125, 1485.6300048828125, 1488.0849609375, 1496.5400390625, 1505.2430419921875, 1483.5, 1498.0, 1486.31005859375, 1498.4200439453125, 1503.5999755859375, 1554.280029296875, 1546.0999755859375, 1507.3919677734375, 1488.4000244140625, 1515.2099609375, 1497.6600341796875, 1501.3299560546875, 1492.219970703125, 1454.030029296875, 1465.6400146484375, 1458.6500244140625, 1463.4599609375, 1466.0, 1481.6400146484375, 1473.0799560546875, 1478.0, 1485.25, 1508.0050048828125, 1502.8800048828125, 1507.969970703125, 1523.7099609375, 1543.949951171875, 1538.199951171875, 1568.0050048828125, 1580.5699462890625, 1582.0699462890625, 1603.5999755859375, 1625.75, 1630.75, 1630.31005859375, 1632.219970703125, 1666.3299560546875, 1615.06005859375, 1547.613037109375, 1528.010009765625, 1536.051025390625, 1525.8050537109375, 1497.3599853515625, 1515.739990234375, 1531.8349609375, 1519.8199462890625, 1470.0, 1437.1300048828125, 1406.550048828125, 1434.530029296875, 1407.699951171875, 1409.8499755859375, 1413.3399658203125, 1449.301025390625, 1458.8050537109375, 1459.8800048828125, 1479.2099609375, 1450.9200439453125, 1464.27001953125, 1448.5899658203125, 1436.0, 1465.0899658203125, 1489.449951171875, 1532.5699462890625, 1563.199951171875, 1550.530029296875, 1545.030029296875, 1563.0, 1528.0, 1525.6700439453125, 1571.6300048828125, 1585.0, 1620.510009765625, 1576.5, 1582.780029296875, 1514.6199951171875, 1522.239990234375, 1604.4599609375, 1616.030029296875, 1616.6199951171875, 1706.030029296875, 1750.510009765625, 1740.3499755859375, 1760.02001953125, 1717.300048828125, 1747.364990234375, 1745.5999755859375, 1744.550048828125, 1767.68994140625, 1767.0, 1746.1400146484375, 1737.0050048828125, 1741.8599853515625, 1717.719970703125, 1727.68994140625, 1756.5400390625, 1772.43994140625, 1755.0, 1769.3699951171875, 1789.4730224609375, 1822.6500244140625, 1816.989990234375, 1805.780029296875, 1796.2049560546875, 1767.81005859375, 1740.3199462890625, 1760.0, 1757.2149658203125, 1749.949951171875, 1756.0799560546875, 1738.6600341796875, 1720.219970703125, 1699.0, 1712.574951171875, 1725.0400390625, 1729.1099853515625, 1746.3349609375, 1756.0899658203125, 1725.5999755859375, 1735.4200439453125], \"open\": [1341.550048828125, 1347.8599853515625, 1350.0, 1397.93994140625, 1392.0799560546875, 1420.5699462890625, 1427.56005859375, 1436.1300048828125, 1439.010009765625, 1430.2099609375, 1447.43994140625, 1462.9100341796875, 1479.1199951171875, 1491.0, 1487.6400146484375, 1493.5899658203125, 1431.0, 1443.0, 1458.800048828125, 1439.9599609375, 1468.9000244140625, 1462.0, 1457.0699462890625, 1462.4200439453125, 1450.3299560546875, 1467.300048828125, 1474.3199462890625, 1511.81005859375, 1514.47998046875, 1512.68994140625, 1515.5999755859375, 1515.0, 1525.0699462890625, 1522.0, 1508.030029296875, 1426.1099853515625, 1433.0, 1396.1400146484375, 1362.06005859375, 1277.5, 1351.6099853515625, 1399.4200439453125, 1359.22998046875, 1350.199951171875, 1277.06005859375, 1205.300048828125, 1260.0, 1249.699951171875, 1126.0, 1179.0, 1096.0, 1093.1099853515625, 1056.510009765625, 1093.050048828125, 1135.719970703125, 1061.3199462890625, 1103.77001953125, 1126.469970703125, 1111.800048828125, 1125.6700439453125, 1125.0400390625, 1147.300048828125, 1122.0, 1098.260009765625, 1119.0150146484375, 1138.0, 1221.0, 1206.5, 1224.0799560546875, 1209.1800537109375, 1245.0899658203125, 1245.6099853515625, 1274.0999755859375, 1284.8499755859375, 1271.0, 1247.0, 1245.5400390625, 1271.550048828125, 1261.1700439453125, 1296.0, 1287.9300537109375, 1341.4599609375, 1324.8800048828125, 1328.5, 1308.22998046875, 1337.9200439453125, 1361.68994140625, 1365.93994140625, 1383.1300048828125, 1378.280029296875, 1407.1199951171875, 1377.050048828125, 1335.02001953125, 1350.0, 1361.75, 1386.9969482421875, 1389.5799560546875, 1408.0, 1396.7099609375, 1437.27001953125, 1417.25, 1396.8599853515625, 1416.93994140625, 1418.3900146484375, 1430.550048828125, 1438.300048828125, 1430.4000244140625, 1413.1700439453125, 1422.3399658203125, 1445.3599853515625, 1459.5400390625, 1442.47998046875, 1428.489990234375, 1390.800048828125, 1445.219970703125, 1447.1600341796875, 1449.1600341796875, 1444.0, 1429.0, 1455.6400146484375, 1461.510009765625, 1429.9000244140625, 1431.3900146484375, 1358.1800537109375, 1390.43994140625, 1411.0999755859375, 1446.93994140625, 1480.06005859375, 1490.0, 1494.3199462890625, 1506.449951171875, 1506.1500244140625, 1550.0, 1490.31005859375, 1523.1300048828125, 1500.0, 1521.6199951171875, 1515.260009765625, 1586.989990234375, 1560.5, 1566.969970703125, 1498.9300537109375, 1515.5999755859375, 1525.1800537109375, 1506.3199462890625, 1497.0, 1505.010009765625, 1486.6400146484375, 1476.5699462890625, 1469.300048828125, 1471.75, 1500.0, 1487.1800537109375, 1492.43994140625, 1485.5799560546875, 1510.3399658203125, 1515.6600341796875, 1514.6700439453125, 1526.1800537109375, 1553.31005859375, 1543.449951171875, 1577.030029296875, 1593.97998046875, 1582.0699462890625, 1608.0, 1653.6800537109375, 1633.489990234375, 1647.8900146484375, 1636.6300048828125, 1673.7750244140625, 1709.7139892578125, 1624.260009765625, 1533.510009765625, 1557.530029296875, 1560.6400146484375, 1536.0, 1539.0050048828125, 1536.0, 1555.5400390625, 1496.0, 1498.010009765625, 1440.06005859375, 1450.0899658203125, 1458.780029296875, 1411.030029296875, 1432.6300048828125, 1474.2099609375, 1470.3900146484375, 1466.800048828125, 1484.27001953125, 1462.030029296875, 1466.2099609375, 1475.5799560546875, 1464.2900390625, 1465.0899658203125, 1494.699951171875, 1543.0, 1583.72998046875, 1578.5899658203125, 1547.1500244140625, 1565.8499755859375, 1580.4599609375, 1527.050048828125, 1573.3299560546875, 1593.050048828125, 1626.0699462890625, 1625.010009765625, 1595.6700439453125, 1559.739990234375, 1522.3599853515625, 1672.1099853515625, 1628.1600341796875, 1631.780029296875, 1710.280029296875, 1781.0, 1753.949951171875, 1790.9000244140625, 1731.0899658203125, 1750.0, 1747.6300048828125, 1757.6300048828125, 1771.699951171875, 1776.93994140625, 1765.22998046875, 1738.3800048828125, 1765.2099609375, 1749.5999755859375, 1730.5, 1772.8900146484375, 1773.0899658203125, 1781.1839599609375, 1774.3699951171875, 1798.0999755859375, 1824.010009765625, 1824.52001953125, 1819.0, 1810.0999755859375, 1812.010009765625, 1769.800048828125, 1763.06005859375, 1775.0, 1764.4200439453125, 1772.8800048828125, 1768.510009765625, 1754.1800537109375, 1713.510009765625, 1734.4300537109375, 1728.1099853515625, 1735.0, 1751.635009765625, 1787.7900390625, 1762.010009765625, 1735.4200439453125], \"type\": \"candlestick\", \"x\": [\"2020-01-02T00:00:00\", \"2020-01-03T00:00:00\", \"2020-01-06T00:00:00\", \"2020-01-07T00:00:00\", \"2020-01-08T00:00:00\", \"2020-01-09T00:00:00\", \"2020-01-10T00:00:00\", \"2020-01-13T00:00:00\", \"2020-01-14T00:00:00\", \"2020-01-15T00:00:00\", \"2020-01-16T00:00:00\", \"2020-01-17T00:00:00\", \"2020-01-21T00:00:00\", \"2020-01-22T00:00:00\", \"2020-01-23T00:00:00\", \"2020-01-24T00:00:00\", \"2020-01-27T00:00:00\", \"2020-01-28T00:00:00\", \"2020-01-29T00:00:00\", \"2020-01-30T00:00:00\", \"2020-01-31T00:00:00\", \"2020-02-03T00:00:00\", \"2020-02-04T00:00:00\", \"2020-02-05T00:00:00\", \"2020-02-06T00:00:00\", \"2020-02-07T00:00:00\", \"2020-02-10T00:00:00\", \"2020-02-11T00:00:00\", \"2020-02-12T00:00:00\", \"2020-02-13T00:00:00\", \"2020-02-14T00:00:00\", \"2020-02-18T00:00:00\", \"2020-02-19T00:00:00\", \"2020-02-20T00:00:00\", \"2020-02-21T00:00:00\", \"2020-02-24T00:00:00\", \"2020-02-25T00:00:00\", \"2020-02-26T00:00:00\", \"2020-02-27T00:00:00\", \"2020-02-28T00:00:00\", \"2020-03-02T00:00:00\", \"2020-03-03T00:00:00\", \"2020-03-04T00:00:00\", \"2020-03-05T00:00:00\", \"2020-03-06T00:00:00\", \"2020-03-09T00:00:00\", \"2020-03-10T00:00:00\", \"2020-03-11T00:00:00\", \"2020-03-12T00:00:00\", \"2020-03-13T00:00:00\", \"2020-03-16T00:00:00\", \"2020-03-17T00:00:00\", \"2020-03-18T00:00:00\", \"2020-03-19T00:00:00\", \"2020-03-20T00:00:00\", \"2020-03-23T00:00:00\", \"2020-03-24T00:00:00\", \"2020-03-25T00:00:00\", \"2020-03-26T00:00:00\", \"2020-03-27T00:00:00\", \"2020-03-30T00:00:00\", \"2020-03-31T00:00:00\", \"2020-04-01T00:00:00\", \"2020-04-02T00:00:00\", \"2020-04-03T00:00:00\", \"2020-04-06T00:00:00\", \"2020-04-07T00:00:00\", \"2020-04-08T00:00:00\", \"2020-04-09T00:00:00\", \"2020-04-13T00:00:00\", \"2020-04-14T00:00:00\", \"2020-04-15T00:00:00\", \"2020-04-16T00:00:00\", \"2020-04-17T00:00:00\", \"2020-04-20T00:00:00\", \"2020-04-21T00:00:00\", \"2020-04-22T00:00:00\", \"2020-04-23T00:00:00\", \"2020-04-24T00:00:00\", \"2020-04-27T00:00:00\", \"2020-04-28T00:00:00\", \"2020-04-29T00:00:00\", \"2020-04-30T00:00:00\", \"2020-05-01T00:00:00\", \"2020-05-04T00:00:00\", \"2020-05-05T00:00:00\", \"2020-05-06T00:00:00\", \"2020-05-07T00:00:00\", \"2020-05-08T00:00:00\", \"2020-05-11T00:00:00\", \"2020-05-12T00:00:00\", \"2020-05-13T00:00:00\", \"2020-05-14T00:00:00\", \"2020-05-15T00:00:00\", \"2020-05-18T00:00:00\", \"2020-05-19T00:00:00\", \"2020-05-20T00:00:00\", \"2020-05-21T00:00:00\", \"2020-05-22T00:00:00\", \"2020-05-26T00:00:00\", \"2020-05-27T00:00:00\", \"2020-05-28T00:00:00\", \"2020-05-29T00:00:00\", \"2020-06-01T00:00:00\", \"2020-06-02T00:00:00\", \"2020-06-03T00:00:00\", \"2020-06-04T00:00:00\", \"2020-06-05T00:00:00\", \"2020-06-08T00:00:00\", \"2020-06-09T00:00:00\", \"2020-06-10T00:00:00\", \"2020-06-11T00:00:00\", \"2020-06-12T00:00:00\", \"2020-06-15T00:00:00\", \"2020-06-16T00:00:00\", \"2020-06-17T00:00:00\", \"2020-06-18T00:00:00\", \"2020-06-19T00:00:00\", \"2020-06-22T00:00:00\", \"2020-06-23T00:00:00\", \"2020-06-24T00:00:00\", \"2020-06-25T00:00:00\", \"2020-06-26T00:00:00\", \"2020-06-29T00:00:00\", \"2020-06-30T00:00:00\", \"2020-07-01T00:00:00\", \"2020-07-02T00:00:00\", \"2020-07-06T00:00:00\", \"2020-07-07T00:00:00\", \"2020-07-08T00:00:00\", \"2020-07-09T00:00:00\", \"2020-07-10T00:00:00\", \"2020-07-13T00:00:00\", \"2020-07-14T00:00:00\", \"2020-07-15T00:00:00\", \"2020-07-16T00:00:00\", \"2020-07-17T00:00:00\", \"2020-07-20T00:00:00\", \"2020-07-21T00:00:00\", \"2020-07-22T00:00:00\", \"2020-07-23T00:00:00\", \"2020-07-24T00:00:00\", \"2020-07-27T00:00:00\", \"2020-07-28T00:00:00\", \"2020-07-29T00:00:00\", \"2020-07-30T00:00:00\", \"2020-07-31T00:00:00\", \"2020-08-03T00:00:00\", \"2020-08-04T00:00:00\", \"2020-08-05T00:00:00\", \"2020-08-06T00:00:00\", \"2020-08-07T00:00:00\", \"2020-08-10T00:00:00\", \"2020-08-11T00:00:00\", \"2020-08-12T00:00:00\", \"2020-08-13T00:00:00\", \"2020-08-14T00:00:00\", \"2020-08-17T00:00:00\", \"2020-08-18T00:00:00\", \"2020-08-19T00:00:00\", \"2020-08-20T00:00:00\", \"2020-08-21T00:00:00\", \"2020-08-24T00:00:00\", \"2020-08-25T00:00:00\", \"2020-08-26T00:00:00\", \"2020-08-27T00:00:00\", \"2020-08-28T00:00:00\", \"2020-08-31T00:00:00\", \"2020-09-01T00:00:00\", \"2020-09-02T00:00:00\", \"2020-09-03T00:00:00\", \"2020-09-04T00:00:00\", \"2020-09-08T00:00:00\", \"2020-09-09T00:00:00\", \"2020-09-10T00:00:00\", \"2020-09-11T00:00:00\", \"2020-09-14T00:00:00\", \"2020-09-15T00:00:00\", \"2020-09-16T00:00:00\", \"2020-09-17T00:00:00\", \"2020-09-18T00:00:00\", \"2020-09-21T00:00:00\", \"2020-09-22T00:00:00\", \"2020-09-23T00:00:00\", \"2020-09-24T00:00:00\", \"2020-09-25T00:00:00\", \"2020-09-28T00:00:00\", \"2020-09-29T00:00:00\", \"2020-09-30T00:00:00\", \"2020-10-01T00:00:00\", \"2020-10-02T00:00:00\", \"2020-10-05T00:00:00\", \"2020-10-06T00:00:00\", \"2020-10-07T00:00:00\", \"2020-10-08T00:00:00\", \"2020-10-09T00:00:00\", \"2020-10-12T00:00:00\", \"2020-10-13T00:00:00\", \"2020-10-14T00:00:00\", \"2020-10-15T00:00:00\", \"2020-10-16T00:00:00\", \"2020-10-19T00:00:00\", \"2020-10-20T00:00:00\", \"2020-10-21T00:00:00\", \"2020-10-22T00:00:00\", \"2020-10-23T00:00:00\", \"2020-10-26T00:00:00\", \"2020-10-27T00:00:00\", \"2020-10-28T00:00:00\", \"2020-10-29T00:00:00\", \"2020-10-30T00:00:00\", \"2020-11-02T00:00:00\", \"2020-11-03T00:00:00\", \"2020-11-04T00:00:00\", \"2020-11-05T00:00:00\", \"2020-11-06T00:00:00\", \"2020-11-09T00:00:00\", \"2020-11-10T00:00:00\", \"2020-11-11T00:00:00\", \"2020-11-12T00:00:00\", \"2020-11-13T00:00:00\", \"2020-11-16T00:00:00\", \"2020-11-17T00:00:00\", \"2020-11-18T00:00:00\", \"2020-11-19T00:00:00\", \"2020-11-20T00:00:00\", \"2020-11-23T00:00:00\", \"2020-11-24T00:00:00\", \"2020-11-25T00:00:00\", \"2020-11-27T00:00:00\", \"2020-11-30T00:00:00\", \"2020-12-01T00:00:00\", \"2020-12-02T00:00:00\", \"2020-12-03T00:00:00\", \"2020-12-04T00:00:00\", \"2020-12-07T00:00:00\", \"2020-12-08T00:00:00\", \"2020-12-09T00:00:00\", \"2020-12-10T00:00:00\", \"2020-12-11T00:00:00\", \"2020-12-14T00:00:00\", \"2020-12-15T00:00:00\", \"2020-12-16T00:00:00\", \"2020-12-17T00:00:00\", \"2020-12-18T00:00:00\", \"2020-12-21T00:00:00\", \"2020-12-22T00:00:00\", \"2020-12-23T00:00:00\", \"2020-12-24T00:00:00\", \"2020-12-28T00:00:00\", \"2020-12-29T00:00:00\", \"2020-12-30T00:00:00\", \"2020-12-31T00:00:00\"]}],                        {\"template\": {\"data\": {\"bar\": [{\"error_x\": {\"color\": \"#2a3f5f\"}, \"error_y\": {\"color\": \"#2a3f5f\"}, \"marker\": {\"line\": {\"color\": \"#E5ECF6\", \"width\": 0.5}}, \"type\": \"bar\"}], \"barpolar\": [{\"marker\": {\"line\": {\"color\": \"#E5ECF6\", \"width\": 0.5}}, \"type\": \"barpolar\"}], \"carpet\": [{\"aaxis\": {\"endlinecolor\": \"#2a3f5f\", \"gridcolor\": \"white\", \"linecolor\": \"white\", \"minorgridcolor\": \"white\", \"startlinecolor\": \"#2a3f5f\"}, \"baxis\": {\"endlinecolor\": \"#2a3f5f\", \"gridcolor\": \"white\", \"linecolor\": \"white\", \"minorgridcolor\": \"white\", \"startlinecolor\": \"#2a3f5f\"}, \"type\": \"carpet\"}], \"choropleth\": [{\"colorbar\": {\"outlinewidth\": 0, \"ticks\": \"\"}, \"type\": \"choropleth\"}], \"contour\": [{\"colorbar\": {\"outlinewidth\": 0, \"ticks\": \"\"}, \"colorscale\": [[0.0, \"#0d0887\"], [0.1111111111111111, \"#46039f\"], [0.2222222222222222, \"#7201a8\"], [0.3333333333333333, \"#9c179e\"], [0.4444444444444444, \"#bd3786\"], [0.5555555555555556, \"#d8576b\"], [0.6666666666666666, \"#ed7953\"], [0.7777777777777778, \"#fb9f3a\"], [0.8888888888888888, \"#fdca26\"], [1.0, \"#f0f921\"]], \"type\": \"contour\"}], \"contourcarpet\": [{\"colorbar\": {\"outlinewidth\": 0, \"ticks\": \"\"}, \"type\": \"contourcarpet\"}], \"heatmap\": [{\"colorbar\": {\"outlinewidth\": 0, \"ticks\": \"\"}, \"colorscale\": [[0.0, \"#0d0887\"], [0.1111111111111111, \"#46039f\"], [0.2222222222222222, \"#7201a8\"], [0.3333333333333333, \"#9c179e\"], [0.4444444444444444, \"#bd3786\"], [0.5555555555555556, \"#d8576b\"], [0.6666666666666666, \"#ed7953\"], [0.7777777777777778, \"#fb9f3a\"], [0.8888888888888888, \"#fdca26\"], [1.0, \"#f0f921\"]], \"type\": \"heatmap\"}], \"heatmapgl\": [{\"colorbar\": {\"outlinewidth\": 0, \"ticks\": \"\"}, \"colorscale\": [[0.0, \"#0d0887\"], [0.1111111111111111, \"#46039f\"], [0.2222222222222222, \"#7201a8\"], [0.3333333333333333, \"#9c179e\"], [0.4444444444444444, \"#bd3786\"], [0.5555555555555556, \"#d8576b\"], [0.6666666666666666, \"#ed7953\"], [0.7777777777777778, \"#fb9f3a\"], [0.8888888888888888, \"#fdca26\"], [1.0, \"#f0f921\"]], \"type\": \"heatmapgl\"}], \"histogram\": [{\"marker\": {\"colorbar\": {\"outlinewidth\": 0, \"ticks\": \"\"}}, \"type\": \"histogram\"}], \"histogram2d\": [{\"colorbar\": {\"outlinewidth\": 0, \"ticks\": \"\"}, \"colorscale\": [[0.0, \"#0d0887\"], [0.1111111111111111, \"#46039f\"], [0.2222222222222222, \"#7201a8\"], [0.3333333333333333, \"#9c179e\"], [0.4444444444444444, \"#bd3786\"], [0.5555555555555556, \"#d8576b\"], [0.6666666666666666, \"#ed7953\"], [0.7777777777777778, \"#fb9f3a\"], [0.8888888888888888, \"#fdca26\"], [1.0, \"#f0f921\"]], \"type\": \"histogram2d\"}], \"histogram2dcontour\": [{\"colorbar\": {\"outlinewidth\": 0, \"ticks\": \"\"}, \"colorscale\": [[0.0, \"#0d0887\"], [0.1111111111111111, \"#46039f\"], [0.2222222222222222, \"#7201a8\"], [0.3333333333333333, \"#9c179e\"], [0.4444444444444444, \"#bd3786\"], [0.5555555555555556, \"#d8576b\"], [0.6666666666666666, \"#ed7953\"], [0.7777777777777778, \"#fb9f3a\"], [0.8888888888888888, \"#fdca26\"], [1.0, \"#f0f921\"]], \"type\": \"histogram2dcontour\"}], \"mesh3d\": [{\"colorbar\": {\"outlinewidth\": 0, \"ticks\": \"\"}, \"type\": \"mesh3d\"}], \"parcoords\": [{\"line\": {\"colorbar\": {\"outlinewidth\": 0, \"ticks\": \"\"}}, \"type\": \"parcoords\"}], \"pie\": [{\"automargin\": true, \"type\": \"pie\"}], \"scatter\": [{\"marker\": {\"colorbar\": {\"outlinewidth\": 0, \"ticks\": \"\"}}, \"type\": \"scatter\"}], \"scatter3d\": [{\"line\": {\"colorbar\": {\"outlinewidth\": 0, \"ticks\": \"\"}}, \"marker\": {\"colorbar\": {\"outlinewidth\": 0, \"ticks\": \"\"}}, \"type\": \"scatter3d\"}], \"scattercarpet\": [{\"marker\": {\"colorbar\": {\"outlinewidth\": 0, \"ticks\": \"\"}}, \"type\": \"scattercarpet\"}], \"scattergeo\": [{\"marker\": {\"colorbar\": {\"outlinewidth\": 0, \"ticks\": \"\"}}, \"type\": \"scattergeo\"}], \"scattergl\": [{\"marker\": {\"colorbar\": {\"outlinewidth\": 0, \"ticks\": \"\"}}, \"type\": \"scattergl\"}], \"scattermapbox\": [{\"marker\": {\"colorbar\": {\"outlinewidth\": 0, \"ticks\": \"\"}}, \"type\": \"scattermapbox\"}], \"scatterpolar\": [{\"marker\": {\"colorbar\": {\"outlinewidth\": 0, \"ticks\": \"\"}}, \"type\": \"scatterpolar\"}], \"scatterpolargl\": [{\"marker\": {\"colorbar\": {\"outlinewidth\": 0, \"ticks\": \"\"}}, \"type\": \"scatterpolargl\"}], \"scatterternary\": [{\"marker\": {\"colorbar\": {\"outlinewidth\": 0, \"ticks\": \"\"}}, \"type\": \"scatterternary\"}], \"surface\": [{\"colorbar\": {\"outlinewidth\": 0, \"ticks\": \"\"}, \"colorscale\": [[0.0, \"#0d0887\"], [0.1111111111111111, \"#46039f\"], [0.2222222222222222, \"#7201a8\"], [0.3333333333333333, \"#9c179e\"], [0.4444444444444444, \"#bd3786\"], [0.5555555555555556, \"#d8576b\"], [0.6666666666666666, \"#ed7953\"], [0.7777777777777778, \"#fb9f3a\"], [0.8888888888888888, \"#fdca26\"], [1.0, \"#f0f921\"]], \"type\": \"surface\"}], \"table\": [{\"cells\": {\"fill\": {\"color\": \"#EBF0F8\"}, \"line\": {\"color\": \"white\"}}, \"header\": {\"fill\": {\"color\": \"#C8D4E3\"}, \"line\": {\"color\": \"white\"}}, \"type\": \"table\"}]}, \"layout\": {\"annotationdefaults\": {\"arrowcolor\": \"#2a3f5f\", \"arrowhead\": 0, \"arrowwidth\": 1}, \"autotypenumbers\": \"strict\", \"coloraxis\": {\"colorbar\": {\"outlinewidth\": 0, \"ticks\": \"\"}}, \"colorscale\": {\"diverging\": [[0, \"#8e0152\"], [0.1, \"#c51b7d\"], [0.2, \"#de77ae\"], [0.3, \"#f1b6da\"], [0.4, \"#fde0ef\"], [0.5, \"#f7f7f7\"], [0.6, \"#e6f5d0\"], [0.7, \"#b8e186\"], [0.8, \"#7fbc41\"], [0.9, \"#4d9221\"], [1, \"#276419\"]], \"sequential\": [[0.0, \"#0d0887\"], [0.1111111111111111, \"#46039f\"], [0.2222222222222222, \"#7201a8\"], [0.3333333333333333, \"#9c179e\"], [0.4444444444444444, \"#bd3786\"], [0.5555555555555556, \"#d8576b\"], [0.6666666666666666, \"#ed7953\"], [0.7777777777777778, \"#fb9f3a\"], [0.8888888888888888, \"#fdca26\"], [1.0, \"#f0f921\"]], \"sequentialminus\": [[0.0, \"#0d0887\"], [0.1111111111111111, \"#46039f\"], [0.2222222222222222, \"#7201a8\"], [0.3333333333333333, \"#9c179e\"], [0.4444444444444444, \"#bd3786\"], [0.5555555555555556, \"#d8576b\"], [0.6666666666666666, \"#ed7953\"], [0.7777777777777778, \"#fb9f3a\"], [0.8888888888888888, \"#fdca26\"], [1.0, \"#f0f921\"]]}, \"colorway\": [\"#636efa\", \"#EF553B\", \"#00cc96\", \"#ab63fa\", \"#FFA15A\", \"#19d3f3\", \"#FF6692\", \"#B6E880\", \"#FF97FF\", \"#FECB52\"], \"font\": {\"color\": \"#2a3f5f\"}, \"geo\": {\"bgcolor\": \"white\", \"lakecolor\": \"white\", \"landcolor\": \"#E5ECF6\", \"showlakes\": true, \"showland\": true, \"subunitcolor\": \"white\"}, \"hoverlabel\": {\"align\": \"left\"}, \"hovermode\": \"closest\", \"mapbox\": {\"style\": \"light\"}, \"paper_bgcolor\": \"white\", \"plot_bgcolor\": \"#E5ECF6\", \"polar\": {\"angularaxis\": {\"gridcolor\": \"white\", \"linecolor\": \"white\", \"ticks\": \"\"}, \"bgcolor\": \"#E5ECF6\", \"radialaxis\": {\"gridcolor\": \"white\", \"linecolor\": \"white\", \"ticks\": \"\"}}, \"scene\": {\"xaxis\": {\"backgroundcolor\": \"#E5ECF6\", \"gridcolor\": \"white\", \"gridwidth\": 2, \"linecolor\": \"white\", \"showbackground\": true, \"ticks\": \"\", \"zerolinecolor\": \"white\"}, \"yaxis\": {\"backgroundcolor\": \"#E5ECF6\", \"gridcolor\": \"white\", \"gridwidth\": 2, \"linecolor\": \"white\", \"showbackground\": true, \"ticks\": \"\", \"zerolinecolor\": \"white\"}, \"zaxis\": {\"backgroundcolor\": \"#E5ECF6\", \"gridcolor\": \"white\", \"gridwidth\": 2, \"linecolor\": \"white\", \"showbackground\": true, \"ticks\": \"\", \"zerolinecolor\": \"white\"}}, \"shapedefaults\": {\"line\": {\"color\": \"#2a3f5f\"}}, \"ternary\": {\"aaxis\": {\"gridcolor\": \"white\", \"linecolor\": \"white\", \"ticks\": \"\"}, \"baxis\": {\"gridcolor\": \"white\", \"linecolor\": \"white\", \"ticks\": \"\"}, \"bgcolor\": \"#E5ECF6\", \"caxis\": {\"gridcolor\": \"white\", \"linecolor\": \"white\", \"ticks\": \"\"}}, \"title\": {\"x\": 0.05}, \"xaxis\": {\"automargin\": true, \"gridcolor\": \"white\", \"linecolor\": \"white\", \"ticks\": \"\", \"title\": {\"standoff\": 15}, \"zerolinecolor\": \"white\", \"zerolinewidth\": 2}, \"yaxis\": {\"automargin\": true, \"gridcolor\": \"white\", \"linecolor\": \"white\", \"ticks\": \"\", \"title\": {\"standoff\": 15}, \"zerolinecolor\": \"white\", \"zerolinewidth\": 2}}}, \"title\": {\"text\": \"Alphabet's Stock during 2020\"}, \"xaxis\": {\"title\": {\"text\": \"Dates\"}}, \"yaxis\": {\"title\": {\"text\": \"GOOG Stock\"}}},                        {\"responsive\": true}                    ).then(function(){\n",
       "                            \n",
       "var gd = document.getElementById('c8d438ed-0956-419b-8a46-31f270ffe333');\n",
       "var x = new MutationObserver(function (mutations, observer) {{\n",
       "        var display = window.getComputedStyle(gd).display;\n",
       "        if (!display || display === 'none') {{\n",
       "            console.log([gd, 'removed!']);\n",
       "            Plotly.purge(gd);\n",
       "            observer.disconnect();\n",
       "        }}\n",
       "}});\n",
       "\n",
       "// Listen for the removal of the full notebook cells\n",
       "var notebookContainer = gd.closest('#notebook-container');\n",
       "if (notebookContainer) {{\n",
       "    x.observe(notebookContainer, {childList: true});\n",
       "}}\n",
       "\n",
       "// Listen for the clearing of the current output cell\n",
       "var outputEl = gd.closest('.output');\n",
       "if (outputEl) {{\n",
       "    x.observe(outputEl, {childList: true});\n",
       "}}\n",
       "\n",
       "                        })                };                });            </script>        </div>"
      ]
     },
     "metadata": {},
     "output_type": "display_data"
    }
   ],
   "source": [
    "fig = go.Figure(data=[go.Candlestick(x=alphabet.index,\n",
    "                open=alphabet['Open'],\n",
    "                high=alphabet['High'],\n",
    "                low=alphabet['Low'],\n",
    "                close=alphabet['Close'])])\n",
    "fig.update_layout(title=\"Alphabet's Stock during 2020\",\n",
    "                  yaxis_title='GOOG Stock',\n",
    "                  xaxis_title=\"Dates\")\n",
    "fig.show()"
   ]
  },
  {
   "cell_type": "code",
   "execution_count": null,
   "metadata": {},
   "outputs": [],
   "source": []
  }
 ],
 "metadata": {
  "kernelspec": {
   "display_name": "myenv",
   "language": "python",
   "name": "myenv"
  },
  "language_info": {
   "codemirror_mode": {
    "name": "ipython",
    "version": 3
   },
   "file_extension": ".py",
   "mimetype": "text/x-python",
   "name": "python",
   "nbconvert_exporter": "python",
   "pygments_lexer": "ipython3",
   "version": "3.8.5"
  }
 },
 "nbformat": 4,
 "nbformat_minor": 2
}
